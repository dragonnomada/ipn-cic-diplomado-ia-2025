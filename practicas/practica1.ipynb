{
 "cells": [
  {
   "cell_type": "markdown",
   "id": "257d14e0",
   "metadata": {},
   "source": [
    "# Práctica 1 - Tokenización simple\n",
    "\n",
    "> **Intituto Politécnico Nacional**\n",
    ">\n",
    "> **Centro de Investigación en Computación**\n",
    ">\n",
    "> \n",
    "> \n",
    "> Departamento de Diplomados y Extensión Profesional\n",
    "> \n",
    "> Diplomado en Inteligencia Artificial\n",
    "> \n",
    "> * Módulo 11 - Parte I\n",
    "> \n",
    "> Profesor: Alan Badillo Salas (badillosalas@outlook.com)"
   ]
  },
  {
   "cell_type": "code",
   "execution_count": 1,
   "id": "b74d70e0",
   "metadata": {},
   "outputs": [
    {
     "name": "stdout",
     "output_type": "stream",
     "text": [
      "3.8.1\n"
     ]
    }
   ],
   "source": [
    "# pip install nltk==3.8.1\n",
    "import nltk\n",
    "print(nltk.__version__)"
   ]
  },
  {
   "cell_type": "code",
   "execution_count": 2,
   "id": "87f5ef75",
   "metadata": {},
   "outputs": [
    {
     "name": "stderr",
     "output_type": "stream",
     "text": [
      "[nltk_data] Downloading package punkt to\n",
      "[nltk_data]     /Users/dragonnomada/nltk_data...\n",
      "[nltk_data]   Package punkt is already up-to-date!\n"
     ]
    },
    {
     "data": {
      "text/plain": [
       "True"
      ]
     },
     "execution_count": 2,
     "metadata": {},
     "output_type": "execute_result"
    }
   ],
   "source": [
    "# Download the punkt tokenizer model (if you haven't already)\n",
    "nltk.download('punkt')"
   ]
  },
  {
   "cell_type": "code",
   "execution_count": null,
   "id": "7fa0c205",
   "metadata": {},
   "outputs": [
    {
     "name": "stdout",
     "output_type": "stream",
     "text": [
      "Word-Level Tokens: ['Tokenization', 'helps', 'models', 'understand', 'language', '.']\n"
     ]
    }
   ],
   "source": [
    "from nltk.tokenize import word_tokenize\n",
    "\n",
    "# Sample text\n",
    "text = \"Tokenization helps models understand language.\"\n",
    "\n",
    "# Tokenizing text at the word level\n",
    "word_tokens = word_tokenize(text)\n",
    "\n",
    "print(\"Word-Level Tokens:\", word_tokens)"
   ]
  }
 ],
 "metadata": {
  "kernelspec": {
   "display_name": "Python 3",
   "language": "python",
   "name": "python3"
  },
  "language_info": {
   "codemirror_mode": {
    "name": "ipython",
    "version": 3
   },
   "file_extension": ".py",
   "mimetype": "text/x-python",
   "name": "python",
   "nbconvert_exporter": "python",
   "pygments_lexer": "ipython3",
   "version": "3.13.5"
  }
 },
 "nbformat": 4,
 "nbformat_minor": 5
}
