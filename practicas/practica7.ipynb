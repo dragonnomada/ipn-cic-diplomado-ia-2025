{
 "cells": [
  {
   "cell_type": "markdown",
   "id": "213743a7",
   "metadata": {},
   "source": [
    "# Práctica 7 - 1gram vs 2gram\n",
    "\n",
    "> **Intituto Politécnico Nacional**\n",
    ">\n",
    "> **Centro de Investigación en Computación**\n",
    ">\n",
    "> \n",
    "> \n",
    "> Departamento de Diplomados y Extensión Profesional\n",
    "> \n",
    "> Diplomado en Inteligencia Artificial\n",
    "> \n",
    "> * Módulo 11 - Parte II\n",
    "> \n",
    "> Profesor: Alan Badillo Salas (badillosalas@outlook.com)"
   ]
  },
  {
   "cell_type": "code",
   "execution_count": null,
   "id": "3c231f5f",
   "metadata": {},
   "outputs": [
    {
     "name": "stdout",
     "output_type": "stream",
     "text": [
      "  % Total    % Received % Xferd  Average Speed   Time    Time     Time  Current\n",
      "                                 Dload  Upload   Total   Spent    Left  Speed\n",
      "100 80.2M  100 80.2M    0     0  7560k      0  0:00:10  0:00:10 --:--:-- 9489k13  0:00:06  0:00:07 7309k\n"
     ]
    }
   ],
   "source": [
    "# !curl -O https://ai.stanford.edu/~amaas/data/sentiment/aclImdb_v1.tar.gz"
   ]
  },
  {
   "cell_type": "code",
   "execution_count": 2,
   "id": "a92517a7",
   "metadata": {},
   "outputs": [],
   "source": [
    "# !tar -xf aclImdb_v1.tar.gz"
   ]
  },
  {
   "cell_type": "code",
   "execution_count": 3,
   "id": "1194ab48",
   "metadata": {},
   "outputs": [],
   "source": [
    "# !rm -r aclImdb/train/unsup"
   ]
  },
  {
   "cell_type": "code",
   "execution_count": 2,
   "id": "19c69e42",
   "metadata": {},
   "outputs": [
    {
     "name": "stdout",
     "output_type": "stream",
     "text": [
      "I first saw this back in the early 90s on UK TV, i did like it then but i missed the chance to tape it, many years passed but the film always stuck with me and i lost hope of seeing it TV again, the main thing that stuck with me was the end, the hole castle part really touched me, its easy to watch, has a great story, great music, the list goes on and on, its OK me saying how good it is but everyone will take there own best bits away with them once they have seen it, yes the animation is top notch and beautiful to watch, it does show its age in a very few parts but that has now become part of it beauty, i am so glad it has came out on DVD as it is one of my top 10 films of all time. Buy it or rent it just see it, best viewing is at night alone with drink and food in reach so you don't have to stop the film.<br /><br />Enjoy"
     ]
    }
   ],
   "source": [
    "!cat aclImdb/train/pos/4077_10.txt"
   ]
  },
  {
   "cell_type": "code",
   "execution_count": 5,
   "id": "be3f58fa",
   "metadata": {},
   "outputs": [
    {
     "name": "stdout",
     "output_type": "stream",
     "text": [
      "Story of a man who has unnatural feelings for a pig. Starts out with a opening scene that is a terrific example of absurd comedy. A formal orchestra audience is turned into an insane, violent mob by the crazy chantings of it's singers. Unfortunately it stays absurd the WHOLE time with no general narrative eventually making it just too off putting. Even those from the era should be turned off. The cryptic dialogue would make Shakespeare seem easy to a third grader. On a technical level it's better than you might think with some good cinematography by future great Vilmos Zsigmond. Future stars Sally Kirkland and Frederic Forrest can be seen briefly."
     ]
    }
   ],
   "source": [
    "!cat aclImdb/train/neg/0_3.txt"
   ]
  },
  {
   "cell_type": "code",
   "execution_count": 6,
   "id": "4922b533",
   "metadata": {},
   "outputs": [
    {
     "name": "stdout",
     "output_type": "stream",
     "text": [
      "aclImdb\n",
      "aclImdb/val\n",
      "aclImdb/train\n"
     ]
    }
   ],
   "source": [
    "import os, pathlib, shutil, random\n",
    "\n",
    "base_dir = pathlib.Path(\"aclImdb\")\n",
    "val_dir = base_dir / \"val\"\n",
    "train_dir = base_dir / \"train\"\n",
    "\n",
    "print(base_dir)\n",
    "print(val_dir)\n",
    "print(train_dir)"
   ]
  },
  {
   "cell_type": "code",
   "execution_count": null,
   "id": "e8f8650b",
   "metadata": {},
   "outputs": [],
   "source": [
    "# for category in (\"neg\", \"pos\"):\n",
    "#     os.makedirs(val_dir / category)\n",
    "#     files = os.listdir(train_dir / category)\n",
    "#     random.Random(1337).shuffle(files)\n",
    "#     num_val_samples = int(0.2 * len(files))\n",
    "#     val_files = files[-num_val_samples:]\n",
    "#     for fname in val_files:\n",
    "#         shutil.move(train_dir / category / fname, val_dir / category / fname)"
   ]
  },
  {
   "cell_type": "code",
   "execution_count": 3,
   "id": "f5c22abc",
   "metadata": {},
   "outputs": [
    {
     "data": {
      "text/plain": [
       "('2.16.2', '3.11.3')"
      ]
     },
     "execution_count": 3,
     "metadata": {},
     "output_type": "execute_result"
    }
   ],
   "source": [
    "import tensorflow\n",
    "from tensorflow import keras\n",
    "\n",
    "tensorflow.__version__, keras.__version__"
   ]
  },
  {
   "cell_type": "code",
   "execution_count": 4,
   "id": "c43de239",
   "metadata": {},
   "outputs": [
    {
     "name": "stdout",
     "output_type": "stream",
     "text": [
      "Found 20000 files belonging to 2 classes.\n"
     ]
    },
    {
     "name": "stderr",
     "output_type": "stream",
     "text": [
      "2025-09-04 20:09:27.184154: I metal_plugin/src/device/metal_device.cc:1154] Metal device set to: Apple M1\n",
      "2025-09-04 20:09:27.184339: I metal_plugin/src/device/metal_device.cc:296] systemMemory: 8.00 GB\n",
      "2025-09-04 20:09:27.184354: I metal_plugin/src/device/metal_device.cc:313] maxCacheSize: 2.67 GB\n",
      "2025-09-04 20:09:27.185125: I tensorflow/core/common_runtime/pluggable_device/pluggable_device_factory.cc:305] Could not identify NUMA node of platform GPU ID 0, defaulting to 0. Your kernel may not have been built with NUMA support.\n",
      "2025-09-04 20:09:27.185142: I tensorflow/core/common_runtime/pluggable_device/pluggable_device_factory.cc:271] Created TensorFlow device (/job:localhost/replica:0/task:0/device:GPU:0 with 0 MB memory) -> physical PluggableDevice (device: 0, name: METAL, pci bus id: <undefined>)\n"
     ]
    },
    {
     "name": "stdout",
     "output_type": "stream",
     "text": [
      "Found 5000 files belonging to 2 classes.\n",
      "Found 25000 files belonging to 2 classes.\n"
     ]
    }
   ],
   "source": [
    "batch_size = 32\n",
    "\n",
    "train_ds = keras.utils.text_dataset_from_directory(\n",
    "    \"aclImdb/train\", batch_size=batch_size\n",
    ")\n",
    "val_ds = keras.utils.text_dataset_from_directory(\n",
    "    \"aclImdb/val\", batch_size=batch_size\n",
    ")\n",
    "test_ds = keras.utils.text_dataset_from_directory(\n",
    "    \"aclImdb/test\", batch_size=batch_size\n",
    ")"
   ]
  },
  {
   "cell_type": "code",
   "execution_count": 10,
   "id": "6037c457",
   "metadata": {},
   "outputs": [
    {
     "name": "stdout",
     "output_type": "stream",
     "text": [
      "inputs.shape: (32,)\n",
      "inputs.dtype: <dtype: 'string'>\n",
      "targets.shape: (32,)\n",
      "targets.dtype: <dtype: 'int32'>\n",
      "inputs[0]: tf.Tensor(b'I really didn\\'t expect much from this movie, but it wasn\\'t bad; actually it was quite good. This movie contained a couple of the funniest bits of writing I have ever seen from a motion picture. Now am not saying this is one of the funniest movies of all time, but I laughed pretty hard at some parts. \"The police ruled my father\\'s death a suicide. They said he fell down an elevator shaft. Onto some bullets\". Now this movie is not for everybody, its mostly stupid humor like Zoolander or Dodgeball; so if you hated these movies I would probably recommend you to steer clear. Overall it was an enjoyable movie, about a group of superhero wannabes, who end up becoming real heroes in the end. It\\'s a vastly overrated comedy that many people probably haven\\'t seen yet, because like me before viewing it expected it to be utter garbage. After viewing this film, I finally understand why this movie was able to assemble such a superstar cast which includes Ben Stiller, William H. Macy, Hank Azaria, and even that kid from Good Burger. It\\'s because Mystery Man is full of excellent comedic writing period 7 out of 10. A very big surprise.', shape=(), dtype=string)\n",
      "targets[0]: tf.Tensor(1, shape=(), dtype=int32)\n"
     ]
    }
   ],
   "source": [
    "for inputs, targets in train_ds:\n",
    "    print(\"inputs.shape:\", inputs.shape)\n",
    "    print(\"inputs.dtype:\", inputs.dtype)\n",
    "    print(\"targets.shape:\", targets.shape)\n",
    "    print(\"targets.dtype:\", targets.dtype)\n",
    "    print(\"inputs[0]:\", inputs[0])\n",
    "    print(\"targets[0]:\", targets[0])\n",
    "    break"
   ]
  },
  {
   "cell_type": "code",
   "execution_count": 8,
   "id": "e2aaac8d",
   "metadata": {},
   "outputs": [
    {
     "data": {
      "text/plain": [
       "['[UNK]']"
      ]
     },
     "execution_count": 8,
     "metadata": {},
     "output_type": "execute_result"
    }
   ],
   "source": [
    "from tensorflow.keras.layers import TextVectorization\n",
    "\n",
    "text_vectorization = TextVectorization(\n",
    "    max_tokens=20000,\n",
    "    output_mode=\"multi_hot\",\n",
    ")\n",
    "\n",
    "text_vectorization.get_vocabulary()"
   ]
  },
  {
   "cell_type": "code",
   "execution_count": 9,
   "id": "bddc2380",
   "metadata": {},
   "outputs": [
    {
     "name": "stderr",
     "output_type": "stream",
     "text": [
      "2025-09-04 20:12:32.845954: W tensorflow/core/framework/local_rendezvous.cc:404] Local rendezvous is aborting with status: OUT_OF_RANGE: End of sequence\n"
     ]
    },
    {
     "data": {
      "text/plain": [
       "['[UNK]',\n",
       " 'the',\n",
       " 'and',\n",
       " 'a',\n",
       " 'of',\n",
       " 'to',\n",
       " 'is',\n",
       " 'in',\n",
       " 'it',\n",
       " 'i',\n",
       " 'this',\n",
       " 'that',\n",
       " 'br',\n",
       " 'was',\n",
       " 'as',\n",
       " 'for',\n",
       " 'with',\n",
       " 'but',\n",
       " 'movie',\n",
       " 'film',\n",
       " 'on',\n",
       " 'not',\n",
       " 'you',\n",
       " 'are',\n",
       " 'his',\n",
       " 'have',\n",
       " 'he',\n",
       " 'be',\n",
       " 'one',\n",
       " 'its',\n",
       " 'at',\n",
       " 'all',\n",
       " 'by',\n",
       " 'an',\n",
       " 'they',\n",
       " 'from',\n",
       " 'who',\n",
       " 'so',\n",
       " 'like',\n",
       " 'her',\n",
       " 'or',\n",
       " 'just',\n",
       " 'about',\n",
       " 'has',\n",
       " 'if',\n",
       " 'out',\n",
       " 'some',\n",
       " 'there',\n",
       " 'what',\n",
       " 'good',\n",
       " 'when',\n",
       " 'more',\n",
       " 'very',\n",
       " 'even',\n",
       " 'she',\n",
       " 'my',\n",
       " 'no',\n",
       " 'up',\n",
       " 'would',\n",
       " 'which',\n",
       " 'only',\n",
       " 'time',\n",
       " 'really',\n",
       " 'story',\n",
       " 'their',\n",
       " 'were',\n",
       " 'had',\n",
       " 'see',\n",
       " 'can',\n",
       " 'me',\n",
       " 'than',\n",
       " 'we',\n",
       " 'much',\n",
       " 'well',\n",
       " 'been',\n",
       " 'into',\n",
       " 'will',\n",
       " 'get',\n",
       " 'also',\n",
       " 'because',\n",
       " 'people',\n",
       " 'do',\n",
       " 'other',\n",
       " 'great',\n",
       " 'bad',\n",
       " 'first',\n",
       " 'how',\n",
       " 'most',\n",
       " 'him',\n",
       " 'dont',\n",
       " 'then',\n",
       " 'made',\n",
       " 'could',\n",
       " 'movies',\n",
       " 'make',\n",
       " 'films',\n",
       " 'way',\n",
       " 'any',\n",
       " 'them',\n",
       " 'too',\n",
       " 'after',\n",
       " 'think',\n",
       " 'characters',\n",
       " 'watch',\n",
       " 'many',\n",
       " 'two',\n",
       " 'being',\n",
       " 'character',\n",
       " 'seen',\n",
       " 'never',\n",
       " 'little',\n",
       " 'best',\n",
       " 'plot',\n",
       " 'where',\n",
       " 'love',\n",
       " 'acting',\n",
       " 'did',\n",
       " 'know',\n",
       " 'life',\n",
       " 'does',\n",
       " 'show',\n",
       " 'ever',\n",
       " 'your',\n",
       " 'over',\n",
       " 'still',\n",
       " 'better',\n",
       " 'off',\n",
       " 'these',\n",
       " 'end',\n",
       " 'say',\n",
       " 'here',\n",
       " 'while',\n",
       " 'man',\n",
       " 'why',\n",
       " 'scene',\n",
       " 'such',\n",
       " 'scenes',\n",
       " 'go',\n",
       " 'should',\n",
       " 'through',\n",
       " 'something',\n",
       " 'back',\n",
       " 'im',\n",
       " 'those',\n",
       " 'years',\n",
       " 'doesnt',\n",
       " 'real',\n",
       " 'watching',\n",
       " 'though',\n",
       " 'now',\n",
       " 'didnt',\n",
       " 'actors',\n",
       " 'thing',\n",
       " 'another',\n",
       " 'before',\n",
       " 'new',\n",
       " 'actually',\n",
       " 'makes',\n",
       " 'nothing',\n",
       " 'find',\n",
       " 'old',\n",
       " 'work',\n",
       " 'few',\n",
       " 'look',\n",
       " 'funny',\n",
       " 'same',\n",
       " 'going',\n",
       " 'every',\n",
       " 'lot',\n",
       " 'us',\n",
       " 'part',\n",
       " 'director',\n",
       " 'thats',\n",
       " 'again',\n",
       " 'quite',\n",
       " 'cant',\n",
       " 'seems',\n",
       " 'cast',\n",
       " 'want',\n",
       " 'young',\n",
       " 'things',\n",
       " 'got',\n",
       " 'around',\n",
       " 'pretty',\n",
       " 'fact',\n",
       " 'world',\n",
       " 'however',\n",
       " 'down',\n",
       " 'take',\n",
       " 'original',\n",
       " 'enough',\n",
       " 'between',\n",
       " 'may',\n",
       " 'both',\n",
       " 'ive',\n",
       " 'thought',\n",
       " 'horror',\n",
       " 'give',\n",
       " 'big',\n",
       " 'own',\n",
       " 'series',\n",
       " 'always',\n",
       " 'right',\n",
       " 'without',\n",
       " 'gets',\n",
       " 'isnt',\n",
       " 'long',\n",
       " 'theres',\n",
       " 'times',\n",
       " 'role',\n",
       " 'saw',\n",
       " 'almost',\n",
       " 'least',\n",
       " 'point',\n",
       " 'come',\n",
       " 'interesting',\n",
       " 'must',\n",
       " 'action',\n",
       " 'whole',\n",
       " 'bit',\n",
       " 'comedy',\n",
       " 'music',\n",
       " 'family',\n",
       " 'anything',\n",
       " 'hes',\n",
       " 'feel',\n",
       " 'script',\n",
       " 'might',\n",
       " 'last',\n",
       " 'done',\n",
       " 'minutes',\n",
       " 'guy',\n",
       " 'far',\n",
       " 'since',\n",
       " 'performance',\n",
       " 'probably',\n",
       " 'am',\n",
       " 'rather',\n",
       " 'kind',\n",
       " 'worst',\n",
       " 'sure',\n",
       " 'away',\n",
       " 'yet',\n",
       " 'woman',\n",
       " 'tv',\n",
       " 'making',\n",
       " 'girl',\n",
       " 'played',\n",
       " 'found',\n",
       " 'each',\n",
       " 'anyone',\n",
       " 'fun',\n",
       " 'having',\n",
       " 'although',\n",
       " 'believe',\n",
       " 'our',\n",
       " 'day',\n",
       " 'trying',\n",
       " 'course',\n",
       " 'comes',\n",
       " 'goes',\n",
       " 'shows',\n",
       " 'especially',\n",
       " 'looks',\n",
       " 'hard',\n",
       " 'put',\n",
       " 'different',\n",
       " 'reason',\n",
       " 'maybe',\n",
       " 'wasnt',\n",
       " 'book',\n",
       " 'set',\n",
       " 'money',\n",
       " 'place',\n",
       " 'once',\n",
       " 'looking',\n",
       " 'ending',\n",
       " 'someone',\n",
       " 'everything',\n",
       " 'true',\n",
       " 'main',\n",
       " 'worth',\n",
       " 'sense',\n",
       " 'plays',\n",
       " 'watched',\n",
       " 'actor',\n",
       " 'three',\n",
       " 'seem',\n",
       " 'instead',\n",
       " 'job',\n",
       " 'said',\n",
       " 'john',\n",
       " 'screen',\n",
       " '2',\n",
       " 'dvd',\n",
       " '10',\n",
       " 'later',\n",
       " 'together',\n",
       " 'takes',\n",
       " 'himself',\n",
       " 'version',\n",
       " 'everyone',\n",
       " 'play',\n",
       " 'effects',\n",
       " 'beautiful',\n",
       " 'during',\n",
       " 'seeing',\n",
       " 'special',\n",
       " 'night',\n",
       " 'excellent',\n",
       " 'left',\n",
       " 'audience',\n",
       " 'house',\n",
       " 'american',\n",
       " 'idea',\n",
       " 'nice',\n",
       " 'simply',\n",
       " 'shot',\n",
       " 'read',\n",
       " 'wife',\n",
       " 'black',\n",
       " 'youre',\n",
       " 'high',\n",
       " 'completely',\n",
       " 'fan',\n",
       " 'help',\n",
       " 'poor',\n",
       " 'less',\n",
       " 'second',\n",
       " 'used',\n",
       " 'kids',\n",
       " 'else',\n",
       " 'given',\n",
       " 'star',\n",
       " 'war',\n",
       " 'year',\n",
       " 'try',\n",
       " 'performances',\n",
       " 'classic',\n",
       " 'need',\n",
       " 'use',\n",
       " 'home',\n",
       " 'death',\n",
       " 'rest',\n",
       " 'friends',\n",
       " 'mind',\n",
       " 'enjoy',\n",
       " 'father',\n",
       " 'until',\n",
       " 'short',\n",
       " 'men',\n",
       " 'along',\n",
       " 'truly',\n",
       " 'production',\n",
       " 'hollywood',\n",
       " 'line',\n",
       " 'tell',\n",
       " 'dead',\n",
       " 'remember',\n",
       " 'half',\n",
       " 'wrong',\n",
       " 'either',\n",
       " 'boring',\n",
       " 'start',\n",
       " 'perhaps',\n",
       " 'women',\n",
       " 'next',\n",
       " 'let',\n",
       " 'came',\n",
       " 'getting',\n",
       " 'understand',\n",
       " 'recommend',\n",
       " 'mean',\n",
       " 'wonderful',\n",
       " 'couple',\n",
       " 'camera',\n",
       " 'others',\n",
       " 'small',\n",
       " 'full',\n",
       " 'moments',\n",
       " 'stupid',\n",
       " 'stars',\n",
       " 'playing',\n",
       " 'keep',\n",
       " 'episode',\n",
       " 'gives',\n",
       " 'doing',\n",
       " 'terrible',\n",
       " 'often',\n",
       " 'video',\n",
       " 'become',\n",
       " 'awful',\n",
       " 'perfect',\n",
       " 'definitely',\n",
       " 'felt',\n",
       " 'finally',\n",
       " 'lines',\n",
       " 'early',\n",
       " 'piece',\n",
       " 'case',\n",
       " 'top',\n",
       " 'dialogue',\n",
       " 'human',\n",
       " 'face',\n",
       " 'supposed',\n",
       " 'name',\n",
       " 'lost',\n",
       " 'liked',\n",
       " 'yes',\n",
       " 'head',\n",
       " 'absolutely',\n",
       " 'itself',\n",
       " 'sex',\n",
       " 'school',\n",
       " 'live',\n",
       " 'couldnt',\n",
       " 'person',\n",
       " 'went',\n",
       " 'against',\n",
       " 'evil',\n",
       " 'written',\n",
       " 'hope',\n",
       " 'budget',\n",
       " 'certainly',\n",
       " 'shes',\n",
       " 'waste',\n",
       " 'several',\n",
       " 'title',\n",
       " 'sort',\n",
       " 'entire',\n",
       " 'picture',\n",
       " 'loved',\n",
       " 'style',\n",
       " 'problem',\n",
       " '3',\n",
       " 'overall',\n",
       " 'entertaining',\n",
       " 'mr',\n",
       " 'fans',\n",
       " 'oh',\n",
       " 'despite',\n",
       " 'based',\n",
       " 'white',\n",
       " 'already',\n",
       " 'id',\n",
       " 'worse',\n",
       " 'direction',\n",
       " 'unfortunately',\n",
       " 'beginning',\n",
       " 'becomes',\n",
       " 'seemed',\n",
       " 'cinema',\n",
       " 'example',\n",
       " 'guys',\n",
       " 'final',\n",
       " 'wanted',\n",
       " 'lives',\n",
       " 'boy',\n",
       " 'throughout',\n",
       " 'dark',\n",
       " 'care',\n",
       " 'wants',\n",
       " 'killer',\n",
       " 'fine',\n",
       " 'low',\n",
       " '\\x96',\n",
       " 'sound',\n",
       " 'wont',\n",
       " 'mother',\n",
       " 'turn',\n",
       " 'totally',\n",
       " 'friend',\n",
       " '1',\n",
       " 'youll',\n",
       " 'works',\n",
       " 'theyre',\n",
       " 'laugh',\n",
       " 'under',\n",
       " 'drama',\n",
       " 'tries',\n",
       " 'lead',\n",
       " 'history',\n",
       " 'children',\n",
       " 'guess',\n",
       " 'writing',\n",
       " 'humor',\n",
       " 'turns',\n",
       " 'amazing',\n",
       " 'past',\n",
       " 'called',\n",
       " 'enjoyed',\n",
       " 'town',\n",
       " 'days',\n",
       " 'behind',\n",
       " 'starts',\n",
       " 'quality',\n",
       " 'girls',\n",
       " 'able',\n",
       " 'favorite',\n",
       " 'kill',\n",
       " 'gave',\n",
       " 'game',\n",
       " 'viewer',\n",
       " 'michael',\n",
       " 'horrible',\n",
       " 'soon',\n",
       " 'side',\n",
       " 'sometimes',\n",
       " 'flick',\n",
       " 'act',\n",
       " 'actress',\n",
       " 'son',\n",
       " 'obviously',\n",
       " 'parts',\n",
       " 'expect',\n",
       " 'child',\n",
       " 'stuff',\n",
       " 'car',\n",
       " 'ones',\n",
       " 'themselves',\n",
       " 'directed',\n",
       " 'ill',\n",
       " 'brilliant',\n",
       " 'eyes',\n",
       " 'thinking',\n",
       " 'decent',\n",
       " 'fight',\n",
       " 'myself',\n",
       " 'stories',\n",
       " 'heard',\n",
       " 'highly',\n",
       " 'run',\n",
       " 'hell',\n",
       " 'feeling',\n",
       " 'art',\n",
       " 'late',\n",
       " 'blood',\n",
       " 'leave',\n",
       " 'heart',\n",
       " 'hand',\n",
       " 'genre',\n",
       " 'says',\n",
       " 'cannot',\n",
       " 'took',\n",
       " 'police',\n",
       " 'close',\n",
       " 'except',\n",
       " 'hour',\n",
       " 'matter',\n",
       " 'wouldnt',\n",
       " 'lack',\n",
       " 'roles',\n",
       " 'particularly',\n",
       " 'happens',\n",
       " 'city',\n",
       " 'happened',\n",
       " 'involved',\n",
       " 'strong',\n",
       " 'chance',\n",
       " 'killed',\n",
       " 'kid',\n",
       " 'moment',\n",
       " 'coming',\n",
       " 'told',\n",
       " 'murder',\n",
       " 'living',\n",
       " 'extremely',\n",
       " 'attempt',\n",
       " 'please',\n",
       " 'voice',\n",
       " 'obvious',\n",
       " 'anyway',\n",
       " 'save',\n",
       " 'score',\n",
       " 'james',\n",
       " 'including',\n",
       " 'god',\n",
       " 'alone',\n",
       " 'lets',\n",
       " 'daughter',\n",
       " 'complete',\n",
       " 'age',\n",
       " 'type',\n",
       " 'simple',\n",
       " 'itbr',\n",
       " 'ok',\n",
       " 'none',\n",
       " 'interest',\n",
       " 'etc',\n",
       " 'exactly',\n",
       " 'slow',\n",
       " 'violence',\n",
       " 'somewhat',\n",
       " 'experience',\n",
       " 'wonder',\n",
       " 'group',\n",
       " 'taken',\n",
       " 'shown',\n",
       " 'david',\n",
       " 'looked',\n",
       " 'ago',\n",
       " 'whose',\n",
       " 'happen',\n",
       " 'annoying',\n",
       " 'usually',\n",
       " 'stop',\n",
       " 'number',\n",
       " 'hit',\n",
       " 'finds',\n",
       " 'musical',\n",
       " 'relationship',\n",
       " 'cinematography',\n",
       " 'opening',\n",
       " 'english',\n",
       " 'sad',\n",
       " 'running',\n",
       " 'possible',\n",
       " 'wish',\n",
       " 'ends',\n",
       " 'known',\n",
       " 'crap',\n",
       " 'released',\n",
       " 'career',\n",
       " 'body',\n",
       " 'across',\n",
       " 'today',\n",
       " 'hilarious',\n",
       " 'song',\n",
       " 'started',\n",
       " 'saying',\n",
       " '4',\n",
       " 'hours',\n",
       " 'scary',\n",
       " 'shots',\n",
       " 'jokes',\n",
       " 'change',\n",
       " 'usual',\n",
       " 'robert',\n",
       " 'serious',\n",
       " 'ridiculous',\n",
       " 'yourself',\n",
       " 'mostly',\n",
       " 'clearly',\n",
       " 'brother',\n",
       " 'talking',\n",
       " 'order',\n",
       " 'major',\n",
       " 'directors',\n",
       " 'seriously',\n",
       " 'huge',\n",
       " 'cut',\n",
       " 'reality',\n",
       " 'gore',\n",
       " 'episodes',\n",
       " 'call',\n",
       " 'power',\n",
       " 'taking',\n",
       " 'apparently',\n",
       " 'four',\n",
       " '5',\n",
       " 'turned',\n",
       " 'novel',\n",
       " 'documentary',\n",
       " 'female',\n",
       " 'supporting',\n",
       " 'due',\n",
       " 'local',\n",
       " 'songs',\n",
       " 'basically',\n",
       " 'strange',\n",
       " 'level',\n",
       " 'british',\n",
       " 'arent',\n",
       " 'opinion',\n",
       " 'husband',\n",
       " 'knows',\n",
       " 'events',\n",
       " 'important',\n",
       " 'hero',\n",
       " 'cool',\n",
       " 'view',\n",
       " 'easily',\n",
       " 'rating',\n",
       " 'sequence',\n",
       " 'beyond',\n",
       " 'happy',\n",
       " 'cheap',\n",
       " 'tells',\n",
       " 'single',\n",
       " 'word',\n",
       " 'words',\n",
       " 'talent',\n",
       " 'knew',\n",
       " 'whats',\n",
       " 'king',\n",
       " 'bring',\n",
       " 'attention',\n",
       " 'television',\n",
       " 'modern',\n",
       " 'room',\n",
       " 'problems',\n",
       " 'earth',\n",
       " 'whether',\n",
       " 'sets',\n",
       " 'similar',\n",
       " 'appears',\n",
       " 'silly',\n",
       " 'paul',\n",
       " 'moviebr',\n",
       " 'disappointed',\n",
       " 'five',\n",
       " 'falls',\n",
       " 'miss',\n",
       " 'light',\n",
       " 'romantic',\n",
       " 'comic',\n",
       " 'using',\n",
       " 'needs',\n",
       " 'future',\n",
       " 'talk',\n",
       " 'feels',\n",
       " 'giving',\n",
       " 'enjoyable',\n",
       " 'viewers',\n",
       " 'lots',\n",
       " 'country',\n",
       " 'within',\n",
       " 'add',\n",
       " 'jack',\n",
       " 'mystery',\n",
       " 'bunch',\n",
       " 'above',\n",
       " 'upon',\n",
       " 'richard',\n",
       " 'message',\n",
       " 'havent',\n",
       " 'predictable',\n",
       " 'theme',\n",
       " 'named',\n",
       " 'herself',\n",
       " 'filmbr',\n",
       " 'nearly',\n",
       " 'mention',\n",
       " 'george',\n",
       " 'middle',\n",
       " 'entertainment',\n",
       " 'animation',\n",
       " 'writer',\n",
       " 'storyline',\n",
       " 'actual',\n",
       " 'rock',\n",
       " 'dull',\n",
       " 'lady',\n",
       " 'typical',\n",
       " 'ways',\n",
       " 'surprised',\n",
       " 'points',\n",
       " 'ten',\n",
       " 'easy',\n",
       " 'review',\n",
       " 'red',\n",
       " 'thriller',\n",
       " 'dialog',\n",
       " 'moving',\n",
       " 'fantastic',\n",
       " 'theater',\n",
       " 'elements',\n",
       " 'certain',\n",
       " 'among',\n",
       " 'somehow',\n",
       " 'working',\n",
       " 'comments',\n",
       " 'team',\n",
       " 'tried',\n",
       " 'buy',\n",
       " 'clear',\n",
       " 'begins',\n",
       " 'parents',\n",
       " 'york',\n",
       " 'sequel',\n",
       " 'brought',\n",
       " 'showing',\n",
       " 'effort',\n",
       " 'doubt',\n",
       " 'release',\n",
       " 'editing',\n",
       " 'tale',\n",
       " 'sister',\n",
       " 'leads',\n",
       " 'greatest',\n",
       " 'stay',\n",
       " 'french',\n",
       " 'peter',\n",
       " 'tom',\n",
       " 'sorry',\n",
       " 'oscar',\n",
       " 'fall',\n",
       " 'soundtrack',\n",
       " 'means',\n",
       " 'kept',\n",
       " 'form',\n",
       " 'figure',\n",
       " 'eye',\n",
       " 'straight',\n",
       " 'near',\n",
       " 'de',\n",
       " 'viewing',\n",
       " 'hate',\n",
       " 'avoid',\n",
       " 'imagine',\n",
       " 'check',\n",
       " 'hear',\n",
       " 'whos',\n",
       " 'dance',\n",
       " 'weak',\n",
       " 'gone',\n",
       " 'realistic',\n",
       " 'material',\n",
       " 'famous',\n",
       " 'eventually',\n",
       " 'move',\n",
       " 'class',\n",
       " 'general',\n",
       " 'feature',\n",
       " 'deal',\n",
       " 'youve',\n",
       " 'filmed',\n",
       " 'decided',\n",
       " 'reviews',\n",
       " 'possibly',\n",
       " 'particular',\n",
       " 'lame',\n",
       " 'period',\n",
       " 'lee',\n",
       " 'japanese',\n",
       " 'follow',\n",
       " 'learn',\n",
       " 'forget',\n",
       " 'surprise',\n",
       " 'season',\n",
       " 'whatever',\n",
       " 'nature',\n",
       " 'fast',\n",
       " 'became',\n",
       " 'space',\n",
       " 'writers',\n",
       " 'truth',\n",
       " 'premise',\n",
       " 'wait',\n",
       " 'stand',\n",
       " 'sequences',\n",
       " 'poorly',\n",
       " 'difficult',\n",
       " 'sit',\n",
       " 'indeed',\n",
       " 'average',\n",
       " 'rent',\n",
       " 'nor',\n",
       " 'die',\n",
       " '80s',\n",
       " 'okay',\n",
       " 'killing',\n",
       " 'crime',\n",
       " 'atmosphere',\n",
       " 'suspense',\n",
       " 'subject',\n",
       " 'third',\n",
       " 'sexual',\n",
       " 'meets',\n",
       " 'leaves',\n",
       " 'memorable',\n",
       " 'joe',\n",
       " 'stage',\n",
       " 'expected',\n",
       " 'needed',\n",
       " 'zombie',\n",
       " 'earlier',\n",
       " 'believable',\n",
       " 'note',\n",
       " 'forced',\n",
       " 'begin',\n",
       " 'romance',\n",
       " 'dr',\n",
       " 'reading',\n",
       " 'interested',\n",
       " 'baby',\n",
       " 'beauty',\n",
       " 'boys',\n",
       " 'shame',\n",
       " 'screenplay',\n",
       " 'unless',\n",
       " 'features',\n",
       " 'question',\n",
       " 'emotional',\n",
       " 'weird',\n",
       " 'filmmakers',\n",
       " 'badly',\n",
       " 'realize',\n",
       " 'keeps',\n",
       " 'credits',\n",
       " 'result',\n",
       " 'older',\n",
       " 'towards',\n",
       " 'footage',\n",
       " 'unique',\n",
       " 'street',\n",
       " 'otherwise',\n",
       " 'write',\n",
       " 'crazy',\n",
       " 'perfectly',\n",
       " 'superb',\n",
       " 'meet',\n",
       " 'comment',\n",
       " 'minute',\n",
       " 'dog',\n",
       " 'disney',\n",
       " 'brings',\n",
       " 'creepy',\n",
       " 'admit',\n",
       " 'worked',\n",
       " 'deep',\n",
       " 'whom',\n",
       " 'total',\n",
       " 'return',\n",
       " 'b',\n",
       " 'appear',\n",
       " 'sounds',\n",
       " 'dramatic',\n",
       " 'cheesy',\n",
       " 'quickly',\n",
       " 'plus',\n",
       " 'directing',\n",
       " 'setting',\n",
       " 'america',\n",
       " '70s',\n",
       " 'hot',\n",
       " 'ask',\n",
       " 'meant',\n",
       " 'development',\n",
       " 'free',\n",
       " 'various',\n",
       " 'previous',\n",
       " 'plenty',\n",
       " 'background',\n",
       " 'remake',\n",
       " 'open',\n",
       " 'hardly',\n",
       " 'situation',\n",
       " 'monster',\n",
       " 'male',\n",
       " 'laughs',\n",
       " 'inside',\n",
       " 'casting',\n",
       " 'bill',\n",
       " 'incredibly',\n",
       " 'ideas',\n",
       " 'society',\n",
       " 'leading',\n",
       " 'christmas',\n",
       " 'battle',\n",
       " 'fairly',\n",
       " 'personal',\n",
       " 'imdb',\n",
       " 'william',\n",
       " 'potential',\n",
       " 'married',\n",
       " 'brothers',\n",
       " 'dumb',\n",
       " 'apart',\n",
       " 'mark',\n",
       " 'hands',\n",
       " 'effect',\n",
       " '20',\n",
       " 'create',\n",
       " 'portrayed',\n",
       " 'mess',\n",
       " 'present',\n",
       " 'fails',\n",
       " 'scifi',\n",
       " 'fire',\n",
       " 'copy',\n",
       " 'fighting',\n",
       " 'acted',\n",
       " 'dream',\n",
       " 'front',\n",
       " 'attempts',\n",
       " 'unlike',\n",
       " 'reasons',\n",
       " 'forward',\n",
       " 'expecting',\n",
       " 'recently',\n",
       " 'la',\n",
       " 'fantasy',\n",
       " 'rich',\n",
       " 'box',\n",
       " 'secret',\n",
       " 'large',\n",
       " 'pay',\n",
       " 'doctor',\n",
       " 'deserves',\n",
       " ...]"
      ]
     },
     "execution_count": 9,
     "metadata": {},
     "output_type": "execute_result"
    }
   ],
   "source": [
    "text_only_train_ds = train_ds.map(lambda x, y: x)\n",
    "text_vectorization.adapt(text_only_train_ds)\n",
    "\n",
    "text_vectorization.get_vocabulary()"
   ]
  },
  {
   "cell_type": "code",
   "execution_count": 14,
   "id": "4f253045",
   "metadata": {},
   "outputs": [
    {
     "data": {
      "text/plain": [
       "'webr'"
      ]
     },
     "execution_count": 14,
     "metadata": {},
     "output_type": "execute_result"
    }
   ],
   "source": [
    "text_vectorization.get_vocabulary()[-1]"
   ]
  },
  {
   "cell_type": "code",
   "execution_count": 13,
   "id": "a6d6d2cb",
   "metadata": {},
   "outputs": [
    {
     "data": {
      "text/plain": [
       "20000"
      ]
     },
     "execution_count": 13,
     "metadata": {},
     "output_type": "execute_result"
    }
   ],
   "source": [
    "text_vectorization.vocabulary_size()"
   ]
  },
  {
   "cell_type": "code",
   "execution_count": 15,
   "id": "16fdc826",
   "metadata": {},
   "outputs": [
    {
     "data": {
      "text/plain": [
       "<tf.Tensor: shape=(2, 20000), dtype=int64, numpy=\n",
       "array([[0, 1, 0, ..., 0, 0, 0],\n",
       "       [0, 1, 1, ..., 0, 0, 1]])>"
      ]
     },
     "execution_count": 15,
     "metadata": {},
     "output_type": "execute_result"
    }
   ],
   "source": [
    "text_vectorization([\"the is so bad\", \"the very good and well webr\"])"
   ]
  },
  {
   "cell_type": "code",
   "execution_count": 16,
   "id": "01dec66d",
   "metadata": {},
   "outputs": [],
   "source": [
    "binary_1gram_train_ds = train_ds.map(lambda x, y: (text_vectorization(x), y), num_parallel_calls=4)\n",
    "binary_1gram_val_ds = val_ds.map(lambda x, y: (text_vectorization(x), y), num_parallel_calls=4)\n",
    "binary_1gram_test_ds = test_ds.map(lambda x, y: (text_vectorization(x), y), num_parallel_calls=4)"
   ]
  },
  {
   "cell_type": "code",
   "execution_count": 17,
   "id": "bf421900",
   "metadata": {},
   "outputs": [
    {
     "name": "stdout",
     "output_type": "stream",
     "text": [
      "inputs.shape: (32, 20000)\n",
      "inputs.dtype: <dtype: 'int64'>\n",
      "targets.shape: (32,)\n",
      "targets.dtype: <dtype: 'int32'>\n",
      "inputs[0]: tf.Tensor([1 1 1 ... 0 0 0], shape=(20000,), dtype=int64)\n",
      "targets[0]: tf.Tensor(0, shape=(), dtype=int32)\n"
     ]
    }
   ],
   "source": [
    "for inputs, targets in binary_1gram_train_ds:\n",
    "    print(\"inputs.shape:\", inputs.shape)\n",
    "    print(\"inputs.dtype:\", inputs.dtype)\n",
    "    print(\"targets.shape:\", targets.shape)\n",
    "    print(\"targets.dtype:\", targets.dtype)\n",
    "    print(\"inputs[0]:\", inputs[0])\n",
    "    print(\"targets[0]:\", targets[0])\n",
    "    break"
   ]
  },
  {
   "cell_type": "code",
   "execution_count": 18,
   "id": "da70a5ed",
   "metadata": {},
   "outputs": [],
   "source": [
    "from tensorflow import keras\n",
    "from tensorflow.keras import layers\n",
    "\n",
    "def get_model(max_tokens=20000, hidden_dim=16):\n",
    "    \n",
    "    inputs = keras.Input(shape=(max_tokens,)) # Capa de entrada: 20,000 entradas (multi-hot / unigram)\n",
    "    \n",
    "    x = layers.Dense(hidden_dim, activation=\"relu\")(inputs) # Capa oculta 1: 16 nodos (tipo ReLU 0<>inf)\n",
    "    x = layers.Dropout(0.5)(x) # Capa drop-put: Ayuda al gradiente (backpropaggation) (50% de la dimensión total)\n",
    "    \n",
    "    outputs = layers.Dense(1, activation=\"sigmoid\")(x) # Capa de salida: 1 nodo (tipo Sigmoid 0<>1) [respuesta binaria]\n",
    "    \n",
    "    model = keras.Model(inputs, outputs)\n",
    "\n",
    "    model.compile(\n",
    "        optimizer=\"rmsprop\", \n",
    "        loss=\"binary_crossentropy\", # Entropía cruzada para la función de pérdida (MSE, AME, CE, ...) - y * ln(yp) - (1 - y) * ln(1 - yp)\n",
    "        metrics=[\"accuracy\"] # Métrica de aprendizaje (Accuracy | Precision | Recall -> binary)\n",
    "    )\n",
    "    \n",
    "    return model"
   ]
  },
  {
   "cell_type": "code",
   "execution_count": 19,
   "id": "0e836e44",
   "metadata": {},
   "outputs": [
    {
     "data": {
      "text/html": [
       "<pre style=\"white-space:pre;overflow-x:auto;line-height:normal;font-family:Menlo,'DejaVu Sans Mono',consolas,'Courier New',monospace\"><span style=\"font-weight: bold\">Model: \"functional\"</span>\n",
       "</pre>\n"
      ],
      "text/plain": [
       "\u001b[1mModel: \"functional\"\u001b[0m\n"
      ]
     },
     "metadata": {},
     "output_type": "display_data"
    },
    {
     "data": {
      "text/html": [
       "<pre style=\"white-space:pre;overflow-x:auto;line-height:normal;font-family:Menlo,'DejaVu Sans Mono',consolas,'Courier New',monospace\">┏━━━━━━━━━━━━━━━━━━━━━━━━━━━━━━━━━┳━━━━━━━━━━━━━━━━━━━━━━━━┳━━━━━━━━━━━━━━━┓\n",
       "┃<span style=\"font-weight: bold\"> Layer (type)                    </span>┃<span style=\"font-weight: bold\"> Output Shape           </span>┃<span style=\"font-weight: bold\">       Param # </span>┃\n",
       "┡━━━━━━━━━━━━━━━━━━━━━━━━━━━━━━━━━╇━━━━━━━━━━━━━━━━━━━━━━━━╇━━━━━━━━━━━━━━━┩\n",
       "│ input_layer (<span style=\"color: #0087ff; text-decoration-color: #0087ff\">InputLayer</span>)        │ (<span style=\"color: #00d7ff; text-decoration-color: #00d7ff\">None</span>, <span style=\"color: #00af00; text-decoration-color: #00af00\">20000</span>)          │             <span style=\"color: #00af00; text-decoration-color: #00af00\">0</span> │\n",
       "├─────────────────────────────────┼────────────────────────┼───────────────┤\n",
       "│ dense (<span style=\"color: #0087ff; text-decoration-color: #0087ff\">Dense</span>)                   │ (<span style=\"color: #00d7ff; text-decoration-color: #00d7ff\">None</span>, <span style=\"color: #00af00; text-decoration-color: #00af00\">16</span>)             │       <span style=\"color: #00af00; text-decoration-color: #00af00\">320,016</span> │\n",
       "├─────────────────────────────────┼────────────────────────┼───────────────┤\n",
       "│ dropout (<span style=\"color: #0087ff; text-decoration-color: #0087ff\">Dropout</span>)               │ (<span style=\"color: #00d7ff; text-decoration-color: #00d7ff\">None</span>, <span style=\"color: #00af00; text-decoration-color: #00af00\">16</span>)             │             <span style=\"color: #00af00; text-decoration-color: #00af00\">0</span> │\n",
       "├─────────────────────────────────┼────────────────────────┼───────────────┤\n",
       "│ dense_1 (<span style=\"color: #0087ff; text-decoration-color: #0087ff\">Dense</span>)                 │ (<span style=\"color: #00d7ff; text-decoration-color: #00d7ff\">None</span>, <span style=\"color: #00af00; text-decoration-color: #00af00\">1</span>)              │            <span style=\"color: #00af00; text-decoration-color: #00af00\">17</span> │\n",
       "└─────────────────────────────────┴────────────────────────┴───────────────┘\n",
       "</pre>\n"
      ],
      "text/plain": [
       "┏━━━━━━━━━━━━━━━━━━━━━━━━━━━━━━━━━┳━━━━━━━━━━━━━━━━━━━━━━━━┳━━━━━━━━━━━━━━━┓\n",
       "┃\u001b[1m \u001b[0m\u001b[1mLayer (type)                   \u001b[0m\u001b[1m \u001b[0m┃\u001b[1m \u001b[0m\u001b[1mOutput Shape          \u001b[0m\u001b[1m \u001b[0m┃\u001b[1m \u001b[0m\u001b[1m      Param #\u001b[0m\u001b[1m \u001b[0m┃\n",
       "┡━━━━━━━━━━━━━━━━━━━━━━━━━━━━━━━━━╇━━━━━━━━━━━━━━━━━━━━━━━━╇━━━━━━━━━━━━━━━┩\n",
       "│ input_layer (\u001b[38;5;33mInputLayer\u001b[0m)        │ (\u001b[38;5;45mNone\u001b[0m, \u001b[38;5;34m20000\u001b[0m)          │             \u001b[38;5;34m0\u001b[0m │\n",
       "├─────────────────────────────────┼────────────────────────┼───────────────┤\n",
       "│ dense (\u001b[38;5;33mDense\u001b[0m)                   │ (\u001b[38;5;45mNone\u001b[0m, \u001b[38;5;34m16\u001b[0m)             │       \u001b[38;5;34m320,016\u001b[0m │\n",
       "├─────────────────────────────────┼────────────────────────┼───────────────┤\n",
       "│ dropout (\u001b[38;5;33mDropout\u001b[0m)               │ (\u001b[38;5;45mNone\u001b[0m, \u001b[38;5;34m16\u001b[0m)             │             \u001b[38;5;34m0\u001b[0m │\n",
       "├─────────────────────────────────┼────────────────────────┼───────────────┤\n",
       "│ dense_1 (\u001b[38;5;33mDense\u001b[0m)                 │ (\u001b[38;5;45mNone\u001b[0m, \u001b[38;5;34m1\u001b[0m)              │            \u001b[38;5;34m17\u001b[0m │\n",
       "└─────────────────────────────────┴────────────────────────┴───────────────┘\n"
      ]
     },
     "metadata": {},
     "output_type": "display_data"
    },
    {
     "data": {
      "text/html": [
       "<pre style=\"white-space:pre;overflow-x:auto;line-height:normal;font-family:Menlo,'DejaVu Sans Mono',consolas,'Courier New',monospace\"><span style=\"font-weight: bold\"> Total params: </span><span style=\"color: #00af00; text-decoration-color: #00af00\">320,033</span> (1.22 MB)\n",
       "</pre>\n"
      ],
      "text/plain": [
       "\u001b[1m Total params: \u001b[0m\u001b[38;5;34m320,033\u001b[0m (1.22 MB)\n"
      ]
     },
     "metadata": {},
     "output_type": "display_data"
    },
    {
     "data": {
      "text/html": [
       "<pre style=\"white-space:pre;overflow-x:auto;line-height:normal;font-family:Menlo,'DejaVu Sans Mono',consolas,'Courier New',monospace\"><span style=\"font-weight: bold\"> Trainable params: </span><span style=\"color: #00af00; text-decoration-color: #00af00\">320,033</span> (1.22 MB)\n",
       "</pre>\n"
      ],
      "text/plain": [
       "\u001b[1m Trainable params: \u001b[0m\u001b[38;5;34m320,033\u001b[0m (1.22 MB)\n"
      ]
     },
     "metadata": {},
     "output_type": "display_data"
    },
    {
     "data": {
      "text/html": [
       "<pre style=\"white-space:pre;overflow-x:auto;line-height:normal;font-family:Menlo,'DejaVu Sans Mono',consolas,'Courier New',monospace\"><span style=\"font-weight: bold\"> Non-trainable params: </span><span style=\"color: #00af00; text-decoration-color: #00af00\">0</span> (0.00 B)\n",
       "</pre>\n"
      ],
      "text/plain": [
       "\u001b[1m Non-trainable params: \u001b[0m\u001b[38;5;34m0\u001b[0m (0.00 B)\n"
      ]
     },
     "metadata": {},
     "output_type": "display_data"
    }
   ],
   "source": [
    "model = get_model()\n",
    "model.summary()"
   ]
  },
  {
   "cell_type": "code",
   "execution_count": 21,
   "id": "ba4feb9f",
   "metadata": {},
   "outputs": [
    {
     "name": "stdout",
     "output_type": "stream",
     "text": [
      "Epoch 1/10\n",
      "\u001b[1m625/625\u001b[0m \u001b[32m━━━━━━━━━━━━━━━━━━━━\u001b[0m\u001b[37m\u001b[0m \u001b[1m7s\u001b[0m 12ms/step - accuracy: 0.9133 - loss: 0.2331 - val_accuracy: 0.8944 - val_loss: 0.2672\n",
      "Epoch 2/10\n",
      "\u001b[1m625/625\u001b[0m \u001b[32m━━━━━━━━━━━━━━━━━━━━\u001b[0m\u001b[37m\u001b[0m \u001b[1m8s\u001b[0m 12ms/step - accuracy: 0.9132 - loss: 0.2360 - val_accuracy: 0.8926 - val_loss: 0.2654\n",
      "Epoch 3/10\n",
      "\u001b[1m625/625\u001b[0m \u001b[32m━━━━━━━━━━━━━━━━━━━━\u001b[0m\u001b[37m\u001b[0m \u001b[1m7s\u001b[0m 12ms/step - accuracy: 0.9114 - loss: 0.2405 - val_accuracy: 0.8944 - val_loss: 0.2646\n",
      "Epoch 4/10\n",
      "\u001b[1m625/625\u001b[0m \u001b[32m━━━━━━━━━━━━━━━━━━━━\u001b[0m\u001b[37m\u001b[0m \u001b[1m7s\u001b[0m 11ms/step - accuracy: 0.9100 - loss: 0.2430 - val_accuracy: 0.8958 - val_loss: 0.2661\n",
      "Epoch 5/10\n",
      "\u001b[1m625/625\u001b[0m \u001b[32m━━━━━━━━━━━━━━━━━━━━\u001b[0m\u001b[37m\u001b[0m \u001b[1m7s\u001b[0m 11ms/step - accuracy: 0.9096 - loss: 0.2462 - val_accuracy: 0.8958 - val_loss: 0.2629\n",
      "Epoch 6/10\n",
      "\u001b[1m625/625\u001b[0m \u001b[32m━━━━━━━━━━━━━━━━━━━━\u001b[0m\u001b[37m\u001b[0m \u001b[1m7s\u001b[0m 12ms/step - accuracy: 0.9085 - loss: 0.2442 - val_accuracy: 0.8922 - val_loss: 0.2669\n",
      "Epoch 7/10\n",
      "\u001b[1m625/625\u001b[0m \u001b[32m━━━━━━━━━━━━━━━━━━━━\u001b[0m\u001b[37m\u001b[0m \u001b[1m7s\u001b[0m 11ms/step - accuracy: 0.9062 - loss: 0.2456 - val_accuracy: 0.8932 - val_loss: 0.2655\n",
      "Epoch 8/10\n",
      "\u001b[1m625/625\u001b[0m \u001b[32m━━━━━━━━━━━━━━━━━━━━\u001b[0m\u001b[37m\u001b[0m \u001b[1m7s\u001b[0m 11ms/step - accuracy: 0.9082 - loss: 0.2437 - val_accuracy: 0.8910 - val_loss: 0.2667\n",
      "Epoch 9/10\n",
      "\u001b[1m625/625\u001b[0m \u001b[32m━━━━━━━━━━━━━━━━━━━━\u001b[0m\u001b[37m\u001b[0m \u001b[1m7s\u001b[0m 12ms/step - accuracy: 0.9091 - loss: 0.2398 - val_accuracy: 0.8928 - val_loss: 0.2643\n",
      "Epoch 10/10\n",
      "\u001b[1m625/625\u001b[0m \u001b[32m━━━━━━━━━━━━━━━━━━━━\u001b[0m\u001b[37m\u001b[0m \u001b[1m7s\u001b[0m 11ms/step - accuracy: 0.9074 - loss: 0.2452 - val_accuracy: 0.8930 - val_loss: 0.2656\n"
     ]
    },
    {
     "data": {
      "text/plain": [
       "<keras.src.callbacks.history.History at 0x11255f340>"
      ]
     },
     "execution_count": 21,
     "metadata": {},
     "output_type": "execute_result"
    }
   ],
   "source": [
    "callbacks = [\n",
    "    keras.callbacks.ModelCheckpoint(\"resultados/binary_1gram.keras\", save_best_only=True)\n",
    "]\n",
    "\n",
    "model.fit(binary_1gram_train_ds.cache(), validation_data=binary_1gram_val_ds.cache(), epochs=10, callbacks=callbacks)"
   ]
  },
  {
   "cell_type": "code",
   "execution_count": 22,
   "id": "97ac8d38",
   "metadata": {},
   "outputs": [
    {
     "data": {
      "text/html": [
       "<pre style=\"white-space:pre;overflow-x:auto;line-height:normal;font-family:Menlo,'DejaVu Sans Mono',consolas,'Courier New',monospace\"><span style=\"font-weight: bold\">Model: \"functional\"</span>\n",
       "</pre>\n"
      ],
      "text/plain": [
       "\u001b[1mModel: \"functional\"\u001b[0m\n"
      ]
     },
     "metadata": {},
     "output_type": "display_data"
    },
    {
     "data": {
      "text/html": [
       "<pre style=\"white-space:pre;overflow-x:auto;line-height:normal;font-family:Menlo,'DejaVu Sans Mono',consolas,'Courier New',monospace\">┏━━━━━━━━━━━━━━━━━━━━━━━━━━━━━━━━━┳━━━━━━━━━━━━━━━━━━━━━━━━┳━━━━━━━━━━━━━━━┓\n",
       "┃<span style=\"font-weight: bold\"> Layer (type)                    </span>┃<span style=\"font-weight: bold\"> Output Shape           </span>┃<span style=\"font-weight: bold\">       Param # </span>┃\n",
       "┡━━━━━━━━━━━━━━━━━━━━━━━━━━━━━━━━━╇━━━━━━━━━━━━━━━━━━━━━━━━╇━━━━━━━━━━━━━━━┩\n",
       "│ input_layer (<span style=\"color: #0087ff; text-decoration-color: #0087ff\">InputLayer</span>)        │ (<span style=\"color: #00d7ff; text-decoration-color: #00d7ff\">None</span>, <span style=\"color: #00af00; text-decoration-color: #00af00\">20000</span>)          │             <span style=\"color: #00af00; text-decoration-color: #00af00\">0</span> │\n",
       "├─────────────────────────────────┼────────────────────────┼───────────────┤\n",
       "│ dense (<span style=\"color: #0087ff; text-decoration-color: #0087ff\">Dense</span>)                   │ (<span style=\"color: #00d7ff; text-decoration-color: #00d7ff\">None</span>, <span style=\"color: #00af00; text-decoration-color: #00af00\">16</span>)             │       <span style=\"color: #00af00; text-decoration-color: #00af00\">320,016</span> │\n",
       "├─────────────────────────────────┼────────────────────────┼───────────────┤\n",
       "│ dropout (<span style=\"color: #0087ff; text-decoration-color: #0087ff\">Dropout</span>)               │ (<span style=\"color: #00d7ff; text-decoration-color: #00d7ff\">None</span>, <span style=\"color: #00af00; text-decoration-color: #00af00\">16</span>)             │             <span style=\"color: #00af00; text-decoration-color: #00af00\">0</span> │\n",
       "├─────────────────────────────────┼────────────────────────┼───────────────┤\n",
       "│ dense_1 (<span style=\"color: #0087ff; text-decoration-color: #0087ff\">Dense</span>)                 │ (<span style=\"color: #00d7ff; text-decoration-color: #00d7ff\">None</span>, <span style=\"color: #00af00; text-decoration-color: #00af00\">1</span>)              │            <span style=\"color: #00af00; text-decoration-color: #00af00\">17</span> │\n",
       "└─────────────────────────────────┴────────────────────────┴───────────────┘\n",
       "</pre>\n"
      ],
      "text/plain": [
       "┏━━━━━━━━━━━━━━━━━━━━━━━━━━━━━━━━━┳━━━━━━━━━━━━━━━━━━━━━━━━┳━━━━━━━━━━━━━━━┓\n",
       "┃\u001b[1m \u001b[0m\u001b[1mLayer (type)                   \u001b[0m\u001b[1m \u001b[0m┃\u001b[1m \u001b[0m\u001b[1mOutput Shape          \u001b[0m\u001b[1m \u001b[0m┃\u001b[1m \u001b[0m\u001b[1m      Param #\u001b[0m\u001b[1m \u001b[0m┃\n",
       "┡━━━━━━━━━━━━━━━━━━━━━━━━━━━━━━━━━╇━━━━━━━━━━━━━━━━━━━━━━━━╇━━━━━━━━━━━━━━━┩\n",
       "│ input_layer (\u001b[38;5;33mInputLayer\u001b[0m)        │ (\u001b[38;5;45mNone\u001b[0m, \u001b[38;5;34m20000\u001b[0m)          │             \u001b[38;5;34m0\u001b[0m │\n",
       "├─────────────────────────────────┼────────────────────────┼───────────────┤\n",
       "│ dense (\u001b[38;5;33mDense\u001b[0m)                   │ (\u001b[38;5;45mNone\u001b[0m, \u001b[38;5;34m16\u001b[0m)             │       \u001b[38;5;34m320,016\u001b[0m │\n",
       "├─────────────────────────────────┼────────────────────────┼───────────────┤\n",
       "│ dropout (\u001b[38;5;33mDropout\u001b[0m)               │ (\u001b[38;5;45mNone\u001b[0m, \u001b[38;5;34m16\u001b[0m)             │             \u001b[38;5;34m0\u001b[0m │\n",
       "├─────────────────────────────────┼────────────────────────┼───────────────┤\n",
       "│ dense_1 (\u001b[38;5;33mDense\u001b[0m)                 │ (\u001b[38;5;45mNone\u001b[0m, \u001b[38;5;34m1\u001b[0m)              │            \u001b[38;5;34m17\u001b[0m │\n",
       "└─────────────────────────────────┴────────────────────────┴───────────────┘\n"
      ]
     },
     "metadata": {},
     "output_type": "display_data"
    },
    {
     "data": {
      "text/html": [
       "<pre style=\"white-space:pre;overflow-x:auto;line-height:normal;font-family:Menlo,'DejaVu Sans Mono',consolas,'Courier New',monospace\"><span style=\"font-weight: bold\"> Total params: </span><span style=\"color: #00af00; text-decoration-color: #00af00\">640,068</span> (2.44 MB)\n",
       "</pre>\n"
      ],
      "text/plain": [
       "\u001b[1m Total params: \u001b[0m\u001b[38;5;34m640,068\u001b[0m (2.44 MB)\n"
      ]
     },
     "metadata": {},
     "output_type": "display_data"
    },
    {
     "data": {
      "text/html": [
       "<pre style=\"white-space:pre;overflow-x:auto;line-height:normal;font-family:Menlo,'DejaVu Sans Mono',consolas,'Courier New',monospace\"><span style=\"font-weight: bold\"> Trainable params: </span><span style=\"color: #00af00; text-decoration-color: #00af00\">320,033</span> (1.22 MB)\n",
       "</pre>\n"
      ],
      "text/plain": [
       "\u001b[1m Trainable params: \u001b[0m\u001b[38;5;34m320,033\u001b[0m (1.22 MB)\n"
      ]
     },
     "metadata": {},
     "output_type": "display_data"
    },
    {
     "data": {
      "text/html": [
       "<pre style=\"white-space:pre;overflow-x:auto;line-height:normal;font-family:Menlo,'DejaVu Sans Mono',consolas,'Courier New',monospace\"><span style=\"font-weight: bold\"> Non-trainable params: </span><span style=\"color: #00af00; text-decoration-color: #00af00\">0</span> (0.00 B)\n",
       "</pre>\n"
      ],
      "text/plain": [
       "\u001b[1m Non-trainable params: \u001b[0m\u001b[38;5;34m0\u001b[0m (0.00 B)\n"
      ]
     },
     "metadata": {},
     "output_type": "display_data"
    },
    {
     "data": {
      "text/html": [
       "<pre style=\"white-space:pre;overflow-x:auto;line-height:normal;font-family:Menlo,'DejaVu Sans Mono',consolas,'Courier New',monospace\"><span style=\"font-weight: bold\"> Optimizer params: </span><span style=\"color: #00af00; text-decoration-color: #00af00\">320,035</span> (1.22 MB)\n",
       "</pre>\n"
      ],
      "text/plain": [
       "\u001b[1m Optimizer params: \u001b[0m\u001b[38;5;34m320,035\u001b[0m (1.22 MB)\n"
      ]
     },
     "metadata": {},
     "output_type": "display_data"
    }
   ],
   "source": [
    "model = keras.models.load_model(\"resultados/binary_1gram.keras\")\n",
    "\n",
    "model.summary()"
   ]
  },
  {
   "cell_type": "code",
   "execution_count": 23,
   "id": "bb440b4d",
   "metadata": {},
   "outputs": [
    {
     "name": "stdout",
     "output_type": "stream",
     "text": [
      "\u001b[1m782/782\u001b[0m \u001b[32m━━━━━━━━━━━━━━━━━━━━\u001b[0m\u001b[37m\u001b[0m \u001b[1m7s\u001b[0m 8ms/step - accuracy: 0.8821 - loss: 0.2908\n",
      "Test acc: 0.882\n"
     ]
    }
   ],
   "source": [
    "print(f\"Test acc: {model.evaluate(binary_1gram_test_ds)[1]:.3f}\")"
   ]
  },
  {
   "cell_type": "code",
   "execution_count": 25,
   "id": "ff09493f",
   "metadata": {},
   "outputs": [
    {
     "name": "stderr",
     "output_type": "stream",
     "text": [
      "2025-09-04 20:29:43.208865: W tensorflow/core/framework/local_rendezvous.cc:404] Local rendezvous is aborting with status: OUT_OF_RANGE: End of sequence\n"
     ]
    },
    {
     "data": {
      "text/plain": [
       "20000"
      ]
     },
     "execution_count": 25,
     "metadata": {},
     "output_type": "execute_result"
    }
   ],
   "source": [
    "text_vectorization = TextVectorization(\n",
    "    ngrams=2,\n",
    "    max_tokens=20000,\n",
    "    output_mode=\"multi_hot\",\n",
    ")\n",
    "text_vectorization.adapt(text_only_train_ds)\n",
    "text_vectorization.vocabulary_size()"
   ]
  },
  {
   "cell_type": "code",
   "execution_count": 26,
   "id": "b326ba7b",
   "metadata": {},
   "outputs": [],
   "source": [
    "\n",
    "binary_2gram_train_ds = train_ds.map(lambda x, y: (text_vectorization(x), y), num_parallel_calls=4)\n",
    "binary_2gram_val_ds = val_ds.map(lambda x, y: (text_vectorization(x), y), num_parallel_calls=4)\n",
    "binary_2gram_test_ds = test_ds.map(lambda x, y: (text_vectorization(x), y), num_parallel_calls=4)"
   ]
  },
  {
   "cell_type": "code",
   "execution_count": 25,
   "id": "5789e367",
   "metadata": {},
   "outputs": [
    {
     "data": {
      "text/html": [
       "<pre style=\"white-space:pre;overflow-x:auto;line-height:normal;font-family:Menlo,'DejaVu Sans Mono',consolas,'Courier New',monospace\"><span style=\"font-weight: bold\">Model: \"functional_1\"</span>\n",
       "</pre>\n"
      ],
      "text/plain": [
       "\u001b[1mModel: \"functional_1\"\u001b[0m\n"
      ]
     },
     "metadata": {},
     "output_type": "display_data"
    },
    {
     "data": {
      "text/html": [
       "<pre style=\"white-space:pre;overflow-x:auto;line-height:normal;font-family:Menlo,'DejaVu Sans Mono',consolas,'Courier New',monospace\">┏━━━━━━━━━━━━━━━━━━━━━━━━━━━━━━━━━┳━━━━━━━━━━━━━━━━━━━━━━━━┳━━━━━━━━━━━━━━━┓\n",
       "┃<span style=\"font-weight: bold\"> Layer (type)                    </span>┃<span style=\"font-weight: bold\"> Output Shape           </span>┃<span style=\"font-weight: bold\">       Param # </span>┃\n",
       "┡━━━━━━━━━━━━━━━━━━━━━━━━━━━━━━━━━╇━━━━━━━━━━━━━━━━━━━━━━━━╇━━━━━━━━━━━━━━━┩\n",
       "│ input_layer_1 (<span style=\"color: #0087ff; text-decoration-color: #0087ff\">InputLayer</span>)      │ (<span style=\"color: #00d7ff; text-decoration-color: #00d7ff\">None</span>, <span style=\"color: #00af00; text-decoration-color: #00af00\">20000</span>)          │             <span style=\"color: #00af00; text-decoration-color: #00af00\">0</span> │\n",
       "├─────────────────────────────────┼────────────────────────┼───────────────┤\n",
       "│ dense_2 (<span style=\"color: #0087ff; text-decoration-color: #0087ff\">Dense</span>)                 │ (<span style=\"color: #00d7ff; text-decoration-color: #00d7ff\">None</span>, <span style=\"color: #00af00; text-decoration-color: #00af00\">16</span>)             │       <span style=\"color: #00af00; text-decoration-color: #00af00\">320,016</span> │\n",
       "├─────────────────────────────────┼────────────────────────┼───────────────┤\n",
       "│ dropout_1 (<span style=\"color: #0087ff; text-decoration-color: #0087ff\">Dropout</span>)             │ (<span style=\"color: #00d7ff; text-decoration-color: #00d7ff\">None</span>, <span style=\"color: #00af00; text-decoration-color: #00af00\">16</span>)             │             <span style=\"color: #00af00; text-decoration-color: #00af00\">0</span> │\n",
       "├─────────────────────────────────┼────────────────────────┼───────────────┤\n",
       "│ dense_3 (<span style=\"color: #0087ff; text-decoration-color: #0087ff\">Dense</span>)                 │ (<span style=\"color: #00d7ff; text-decoration-color: #00d7ff\">None</span>, <span style=\"color: #00af00; text-decoration-color: #00af00\">1</span>)              │            <span style=\"color: #00af00; text-decoration-color: #00af00\">17</span> │\n",
       "└─────────────────────────────────┴────────────────────────┴───────────────┘\n",
       "</pre>\n"
      ],
      "text/plain": [
       "┏━━━━━━━━━━━━━━━━━━━━━━━━━━━━━━━━━┳━━━━━━━━━━━━━━━━━━━━━━━━┳━━━━━━━━━━━━━━━┓\n",
       "┃\u001b[1m \u001b[0m\u001b[1mLayer (type)                   \u001b[0m\u001b[1m \u001b[0m┃\u001b[1m \u001b[0m\u001b[1mOutput Shape          \u001b[0m\u001b[1m \u001b[0m┃\u001b[1m \u001b[0m\u001b[1m      Param #\u001b[0m\u001b[1m \u001b[0m┃\n",
       "┡━━━━━━━━━━━━━━━━━━━━━━━━━━━━━━━━━╇━━━━━━━━━━━━━━━━━━━━━━━━╇━━━━━━━━━━━━━━━┩\n",
       "│ input_layer_1 (\u001b[38;5;33mInputLayer\u001b[0m)      │ (\u001b[38;5;45mNone\u001b[0m, \u001b[38;5;34m20000\u001b[0m)          │             \u001b[38;5;34m0\u001b[0m │\n",
       "├─────────────────────────────────┼────────────────────────┼───────────────┤\n",
       "│ dense_2 (\u001b[38;5;33mDense\u001b[0m)                 │ (\u001b[38;5;45mNone\u001b[0m, \u001b[38;5;34m16\u001b[0m)             │       \u001b[38;5;34m320,016\u001b[0m │\n",
       "├─────────────────────────────────┼────────────────────────┼───────────────┤\n",
       "│ dropout_1 (\u001b[38;5;33mDropout\u001b[0m)             │ (\u001b[38;5;45mNone\u001b[0m, \u001b[38;5;34m16\u001b[0m)             │             \u001b[38;5;34m0\u001b[0m │\n",
       "├─────────────────────────────────┼────────────────────────┼───────────────┤\n",
       "│ dense_3 (\u001b[38;5;33mDense\u001b[0m)                 │ (\u001b[38;5;45mNone\u001b[0m, \u001b[38;5;34m1\u001b[0m)              │            \u001b[38;5;34m17\u001b[0m │\n",
       "└─────────────────────────────────┴────────────────────────┴───────────────┘\n"
      ]
     },
     "metadata": {},
     "output_type": "display_data"
    },
    {
     "data": {
      "text/html": [
       "<pre style=\"white-space:pre;overflow-x:auto;line-height:normal;font-family:Menlo,'DejaVu Sans Mono',consolas,'Courier New',monospace\"><span style=\"font-weight: bold\"> Total params: </span><span style=\"color: #00af00; text-decoration-color: #00af00\">320,033</span> (1.22 MB)\n",
       "</pre>\n"
      ],
      "text/plain": [
       "\u001b[1m Total params: \u001b[0m\u001b[38;5;34m320,033\u001b[0m (1.22 MB)\n"
      ]
     },
     "metadata": {},
     "output_type": "display_data"
    },
    {
     "data": {
      "text/html": [
       "<pre style=\"white-space:pre;overflow-x:auto;line-height:normal;font-family:Menlo,'DejaVu Sans Mono',consolas,'Courier New',monospace\"><span style=\"font-weight: bold\"> Trainable params: </span><span style=\"color: #00af00; text-decoration-color: #00af00\">320,033</span> (1.22 MB)\n",
       "</pre>\n"
      ],
      "text/plain": [
       "\u001b[1m Trainable params: \u001b[0m\u001b[38;5;34m320,033\u001b[0m (1.22 MB)\n"
      ]
     },
     "metadata": {},
     "output_type": "display_data"
    },
    {
     "data": {
      "text/html": [
       "<pre style=\"white-space:pre;overflow-x:auto;line-height:normal;font-family:Menlo,'DejaVu Sans Mono',consolas,'Courier New',monospace\"><span style=\"font-weight: bold\"> Non-trainable params: </span><span style=\"color: #00af00; text-decoration-color: #00af00\">0</span> (0.00 B)\n",
       "</pre>\n"
      ],
      "text/plain": [
       "\u001b[1m Non-trainable params: \u001b[0m\u001b[38;5;34m0\u001b[0m (0.00 B)\n"
      ]
     },
     "metadata": {},
     "output_type": "display_data"
    }
   ],
   "source": [
    "model = get_model()\n",
    "model.summary()"
   ]
  },
  {
   "cell_type": "code",
   "execution_count": 26,
   "id": "ad161cd2",
   "metadata": {},
   "outputs": [
    {
     "name": "stdout",
     "output_type": "stream",
     "text": [
      "Epoch 1/10\n",
      "\u001b[1m625/625\u001b[0m \u001b[32m━━━━━━━━━━━━━━━━━━━━\u001b[0m\u001b[37m\u001b[0m \u001b[1m8s\u001b[0m 12ms/step - accuracy: 0.8487 - loss: 0.3642 - val_accuracy: 0.9060 - val_loss: 0.2409\n",
      "Epoch 2/10\n",
      "\u001b[1m625/625\u001b[0m \u001b[32m━━━━━━━━━━━━━━━━━━━━\u001b[0m\u001b[37m\u001b[0m \u001b[1m7s\u001b[0m 12ms/step - accuracy: 0.9159 - loss: 0.2287 - val_accuracy: 0.9078 - val_loss: 0.2366\n",
      "Epoch 3/10\n",
      "\u001b[1m625/625\u001b[0m \u001b[32m━━━━━━━━━━━━━━━━━━━━\u001b[0m\u001b[37m\u001b[0m \u001b[1m6s\u001b[0m 10ms/step - accuracy: 0.9315 - loss: 0.2011 - val_accuracy: 0.9060 - val_loss: 0.2454\n",
      "Epoch 4/10\n",
      "\u001b[1m625/625\u001b[0m \u001b[32m━━━━━━━━━━━━━━━━━━━━\u001b[0m\u001b[37m\u001b[0m \u001b[1m6s\u001b[0m 10ms/step - accuracy: 0.9385 - loss: 0.1812 - val_accuracy: 0.9020 - val_loss: 0.2516\n",
      "Epoch 5/10\n",
      "\u001b[1m625/625\u001b[0m \u001b[32m━━━━━━━━━━━━━━━━━━━━\u001b[0m\u001b[37m\u001b[0m \u001b[1m6s\u001b[0m 10ms/step - accuracy: 0.9389 - loss: 0.1773 - val_accuracy: 0.9074 - val_loss: 0.2466\n",
      "Epoch 6/10\n",
      "\u001b[1m625/625\u001b[0m \u001b[32m━━━━━━━━━━━━━━━━━━━━\u001b[0m\u001b[37m\u001b[0m \u001b[1m6s\u001b[0m 10ms/step - accuracy: 0.9425 - loss: 0.1718 - val_accuracy: 0.9098 - val_loss: 0.2506\n",
      "Epoch 7/10\n",
      "\u001b[1m625/625\u001b[0m \u001b[32m━━━━━━━━━━━━━━━━━━━━\u001b[0m\u001b[37m\u001b[0m \u001b[1m6s\u001b[0m 10ms/step - accuracy: 0.9419 - loss: 0.1666 - val_accuracy: 0.9086 - val_loss: 0.2516\n",
      "Epoch 8/10\n",
      "\u001b[1m625/625\u001b[0m \u001b[32m━━━━━━━━━━━━━━━━━━━━\u001b[0m\u001b[37m\u001b[0m \u001b[1m6s\u001b[0m 10ms/step - accuracy: 0.9453 - loss: 0.1649 - val_accuracy: 0.9076 - val_loss: 0.2545\n",
      "Epoch 9/10\n",
      "\u001b[1m625/625\u001b[0m \u001b[32m━━━━━━━━━━━━━━━━━━━━\u001b[0m\u001b[37m\u001b[0m \u001b[1m6s\u001b[0m 10ms/step - accuracy: 0.9438 - loss: 0.1673 - val_accuracy: 0.9096 - val_loss: 0.2516\n",
      "Epoch 10/10\n",
      "\u001b[1m625/625\u001b[0m \u001b[32m━━━━━━━━━━━━━━━━━━━━\u001b[0m\u001b[37m\u001b[0m \u001b[1m6s\u001b[0m 10ms/step - accuracy: 0.9459 - loss: 0.1634 - val_accuracy: 0.9098 - val_loss: 0.2537\n"
     ]
    },
    {
     "data": {
      "text/plain": [
       "<keras.src.callbacks.history.History at 0x16b8fded0>"
      ]
     },
     "execution_count": 26,
     "metadata": {},
     "output_type": "execute_result"
    }
   ],
   "source": [
    "callbacks = [\n",
    "    keras.callbacks.ModelCheckpoint(\"resultados/binary_2gram.keras\", save_best_only=True)\n",
    "]\n",
    "model.fit(binary_2gram_train_ds.cache(), validation_data=binary_2gram_val_ds.cache(), epochs=10, callbacks=callbacks)"
   ]
  },
  {
   "cell_type": "code",
   "execution_count": 27,
   "id": "7e6c8fff",
   "metadata": {},
   "outputs": [
    {
     "name": "stdout",
     "output_type": "stream",
     "text": [
      "\u001b[1m782/782\u001b[0m \u001b[32m━━━━━━━━━━━━━━━━━━━━\u001b[0m\u001b[37m\u001b[0m \u001b[1m6s\u001b[0m 7ms/step - accuracy: 0.8994 - loss: 0.2592\n",
      "Test acc: 0.899\n"
     ]
    }
   ],
   "source": [
    "model = keras.models.load_model(\"resultados/binary_2gram.keras\")\n",
    "print(f\"Test acc: {model.evaluate(binary_2gram_test_ds)[1]:.3f}\")"
   ]
  },
  {
   "cell_type": "code",
   "execution_count": 29,
   "id": "5a9292f6",
   "metadata": {},
   "outputs": [
    {
     "name": "stderr",
     "output_type": "stream",
     "text": [
      "2025-09-03 14:24:47.179223: W tensorflow/core/framework/local_rendezvous.cc:404] Local rendezvous is aborting with status: OUT_OF_RANGE: End of sequence\n"
     ]
    },
    {
     "data": {
      "text/html": [
       "<pre style=\"white-space:pre;overflow-x:auto;line-height:normal;font-family:Menlo,'DejaVu Sans Mono',consolas,'Courier New',monospace\"><span style=\"font-weight: bold\">Model: \"functional_2\"</span>\n",
       "</pre>\n"
      ],
      "text/plain": [
       "\u001b[1mModel: \"functional_2\"\u001b[0m\n"
      ]
     },
     "metadata": {},
     "output_type": "display_data"
    },
    {
     "data": {
      "text/html": [
       "<pre style=\"white-space:pre;overflow-x:auto;line-height:normal;font-family:Menlo,'DejaVu Sans Mono',consolas,'Courier New',monospace\">┏━━━━━━━━━━━━━━━━━━━━━━━━━━━━━━━━━┳━━━━━━━━━━━━━━━━━━━━━━━━┳━━━━━━━━━━━━━━━┓\n",
       "┃<span style=\"font-weight: bold\"> Layer (type)                    </span>┃<span style=\"font-weight: bold\"> Output Shape           </span>┃<span style=\"font-weight: bold\">       Param # </span>┃\n",
       "┡━━━━━━━━━━━━━━━━━━━━━━━━━━━━━━━━━╇━━━━━━━━━━━━━━━━━━━━━━━━╇━━━━━━━━━━━━━━━┩\n",
       "│ input_layer_2 (<span style=\"color: #0087ff; text-decoration-color: #0087ff\">InputLayer</span>)      │ (<span style=\"color: #00d7ff; text-decoration-color: #00d7ff\">None</span>, <span style=\"color: #00af00; text-decoration-color: #00af00\">20000</span>)          │             <span style=\"color: #00af00; text-decoration-color: #00af00\">0</span> │\n",
       "├─────────────────────────────────┼────────────────────────┼───────────────┤\n",
       "│ dense_4 (<span style=\"color: #0087ff; text-decoration-color: #0087ff\">Dense</span>)                 │ (<span style=\"color: #00d7ff; text-decoration-color: #00d7ff\">None</span>, <span style=\"color: #00af00; text-decoration-color: #00af00\">16</span>)             │       <span style=\"color: #00af00; text-decoration-color: #00af00\">320,016</span> │\n",
       "├─────────────────────────────────┼────────────────────────┼───────────────┤\n",
       "│ dropout_2 (<span style=\"color: #0087ff; text-decoration-color: #0087ff\">Dropout</span>)             │ (<span style=\"color: #00d7ff; text-decoration-color: #00d7ff\">None</span>, <span style=\"color: #00af00; text-decoration-color: #00af00\">16</span>)             │             <span style=\"color: #00af00; text-decoration-color: #00af00\">0</span> │\n",
       "├─────────────────────────────────┼────────────────────────┼───────────────┤\n",
       "│ dense_5 (<span style=\"color: #0087ff; text-decoration-color: #0087ff\">Dense</span>)                 │ (<span style=\"color: #00d7ff; text-decoration-color: #00d7ff\">None</span>, <span style=\"color: #00af00; text-decoration-color: #00af00\">1</span>)              │            <span style=\"color: #00af00; text-decoration-color: #00af00\">17</span> │\n",
       "└─────────────────────────────────┴────────────────────────┴───────────────┘\n",
       "</pre>\n"
      ],
      "text/plain": [
       "┏━━━━━━━━━━━━━━━━━━━━━━━━━━━━━━━━━┳━━━━━━━━━━━━━━━━━━━━━━━━┳━━━━━━━━━━━━━━━┓\n",
       "┃\u001b[1m \u001b[0m\u001b[1mLayer (type)                   \u001b[0m\u001b[1m \u001b[0m┃\u001b[1m \u001b[0m\u001b[1mOutput Shape          \u001b[0m\u001b[1m \u001b[0m┃\u001b[1m \u001b[0m\u001b[1m      Param #\u001b[0m\u001b[1m \u001b[0m┃\n",
       "┡━━━━━━━━━━━━━━━━━━━━━━━━━━━━━━━━━╇━━━━━━━━━━━━━━━━━━━━━━━━╇━━━━━━━━━━━━━━━┩\n",
       "│ input_layer_2 (\u001b[38;5;33mInputLayer\u001b[0m)      │ (\u001b[38;5;45mNone\u001b[0m, \u001b[38;5;34m20000\u001b[0m)          │             \u001b[38;5;34m0\u001b[0m │\n",
       "├─────────────────────────────────┼────────────────────────┼───────────────┤\n",
       "│ dense_4 (\u001b[38;5;33mDense\u001b[0m)                 │ (\u001b[38;5;45mNone\u001b[0m, \u001b[38;5;34m16\u001b[0m)             │       \u001b[38;5;34m320,016\u001b[0m │\n",
       "├─────────────────────────────────┼────────────────────────┼───────────────┤\n",
       "│ dropout_2 (\u001b[38;5;33mDropout\u001b[0m)             │ (\u001b[38;5;45mNone\u001b[0m, \u001b[38;5;34m16\u001b[0m)             │             \u001b[38;5;34m0\u001b[0m │\n",
       "├─────────────────────────────────┼────────────────────────┼───────────────┤\n",
       "│ dense_5 (\u001b[38;5;33mDense\u001b[0m)                 │ (\u001b[38;5;45mNone\u001b[0m, \u001b[38;5;34m1\u001b[0m)              │            \u001b[38;5;34m17\u001b[0m │\n",
       "└─────────────────────────────────┴────────────────────────┴───────────────┘\n"
      ]
     },
     "metadata": {},
     "output_type": "display_data"
    },
    {
     "data": {
      "text/html": [
       "<pre style=\"white-space:pre;overflow-x:auto;line-height:normal;font-family:Menlo,'DejaVu Sans Mono',consolas,'Courier New',monospace\"><span style=\"font-weight: bold\"> Total params: </span><span style=\"color: #00af00; text-decoration-color: #00af00\">320,033</span> (1.22 MB)\n",
       "</pre>\n"
      ],
      "text/plain": [
       "\u001b[1m Total params: \u001b[0m\u001b[38;5;34m320,033\u001b[0m (1.22 MB)\n"
      ]
     },
     "metadata": {},
     "output_type": "display_data"
    },
    {
     "data": {
      "text/html": [
       "<pre style=\"white-space:pre;overflow-x:auto;line-height:normal;font-family:Menlo,'DejaVu Sans Mono',consolas,'Courier New',monospace\"><span style=\"font-weight: bold\"> Trainable params: </span><span style=\"color: #00af00; text-decoration-color: #00af00\">320,033</span> (1.22 MB)\n",
       "</pre>\n"
      ],
      "text/plain": [
       "\u001b[1m Trainable params: \u001b[0m\u001b[38;5;34m320,033\u001b[0m (1.22 MB)\n"
      ]
     },
     "metadata": {},
     "output_type": "display_data"
    },
    {
     "data": {
      "text/html": [
       "<pre style=\"white-space:pre;overflow-x:auto;line-height:normal;font-family:Menlo,'DejaVu Sans Mono',consolas,'Courier New',monospace\"><span style=\"font-weight: bold\"> Non-trainable params: </span><span style=\"color: #00af00; text-decoration-color: #00af00\">0</span> (0.00 B)\n",
       "</pre>\n"
      ],
      "text/plain": [
       "\u001b[1m Non-trainable params: \u001b[0m\u001b[38;5;34m0\u001b[0m (0.00 B)\n"
      ]
     },
     "metadata": {},
     "output_type": "display_data"
    },
    {
     "name": "stdout",
     "output_type": "stream",
     "text": [
      "Epoch 1/10\n",
      "\u001b[1m625/625\u001b[0m \u001b[32m━━━━━━━━━━━━━━━━━━━━\u001b[0m\u001b[37m\u001b[0m \u001b[1m7s\u001b[0m 11ms/step - accuracy: 0.7603 - loss: 0.5671 - val_accuracy: 0.8932 - val_loss: 0.2746\n",
      "Epoch 2/10\n",
      "\u001b[1m625/625\u001b[0m \u001b[32m━━━━━━━━━━━━━━━━━━━━\u001b[0m\u001b[37m\u001b[0m \u001b[1m6s\u001b[0m 10ms/step - accuracy: 0.8772 - loss: 0.3205 - val_accuracy: 0.9042 - val_loss: 0.2544\n",
      "Epoch 3/10\n",
      "\u001b[1m625/625\u001b[0m \u001b[32m━━━━━━━━━━━━━━━━━━━━\u001b[0m\u001b[37m\u001b[0m \u001b[1m6s\u001b[0m 10ms/step - accuracy: 0.9003 - loss: 0.2841 - val_accuracy: 0.9094 - val_loss: 0.2497\n",
      "Epoch 4/10\n",
      "\u001b[1m625/625\u001b[0m \u001b[32m━━━━━━━━━━━━━━━━━━━━\u001b[0m\u001b[37m\u001b[0m \u001b[1m6s\u001b[0m 10ms/step - accuracy: 0.9086 - loss: 0.2718 - val_accuracy: 0.9058 - val_loss: 0.2500\n",
      "Epoch 5/10\n",
      "\u001b[1m625/625\u001b[0m \u001b[32m━━━━━━━━━━━━━━━━━━━━\u001b[0m\u001b[37m\u001b[0m \u001b[1m6s\u001b[0m 10ms/step - accuracy: 0.9121 - loss: 0.2579 - val_accuracy: 0.9086 - val_loss: 0.2500\n",
      "Epoch 6/10\n",
      "\u001b[1m625/625\u001b[0m \u001b[32m━━━━━━━━━━━━━━━━━━━━\u001b[0m\u001b[37m\u001b[0m \u001b[1m6s\u001b[0m 10ms/step - accuracy: 0.9175 - loss: 0.2394 - val_accuracy: 0.9100 - val_loss: 0.2493\n",
      "Epoch 7/10\n",
      "\u001b[1m625/625\u001b[0m \u001b[32m━━━━━━━━━━━━━━━━━━━━\u001b[0m\u001b[37m\u001b[0m \u001b[1m6s\u001b[0m 10ms/step - accuracy: 0.9203 - loss: 0.2354 - val_accuracy: 0.9076 - val_loss: 0.2519\n",
      "Epoch 8/10\n",
      "\u001b[1m625/625\u001b[0m \u001b[32m━━━━━━━━━━━━━━━━━━━━\u001b[0m\u001b[37m\u001b[0m \u001b[1m6s\u001b[0m 10ms/step - accuracy: 0.9191 - loss: 0.2383 - val_accuracy: 0.9086 - val_loss: 0.2495\n",
      "Epoch 9/10\n",
      "\u001b[1m625/625\u001b[0m \u001b[32m━━━━━━━━━━━━━━━━━━━━\u001b[0m\u001b[37m\u001b[0m \u001b[1m6s\u001b[0m 10ms/step - accuracy: 0.9210 - loss: 0.2258 - val_accuracy: 0.9088 - val_loss: 0.2506\n",
      "Epoch 10/10\n",
      "\u001b[1m625/625\u001b[0m \u001b[32m━━━━━━━━━━━━━━━━━━━━\u001b[0m\u001b[37m\u001b[0m \u001b[1m6s\u001b[0m 10ms/step - accuracy: 0.9245 - loss: 0.2195 - val_accuracy: 0.9084 - val_loss: 0.2561\n",
      "\u001b[1m782/782\u001b[0m \u001b[32m━━━━━━━━━━━━━━━━━━━━\u001b[0m\u001b[37m\u001b[0m \u001b[1m5s\u001b[0m 6ms/step - accuracy: 0.8499 - loss: 0.4253\n",
      "Test acc: 0.850\n"
     ]
    }
   ],
   "source": [
    "text_vectorization = TextVectorization(\n",
    "    ngrams=2,\n",
    "    max_tokens=20000,\n",
    "    output_mode=\"count\"\n",
    ")\n",
    "text_vectorization.adapt(text_only_train_ds)\n",
    "\n",
    "binary_2gram_count_train_ds = train_ds.map(lambda x, y: (text_vectorization(x), y), num_parallel_calls=4)\n",
    "binary_2gram_count_val_ds = val_ds.map(lambda x, y: (text_vectorization(x), y), num_parallel_calls=4)\n",
    "binary_2gram_count_test_ds = test_ds.map(lambda x, y: (text_vectorization(x), y), num_parallel_calls=4)\n",
    "model = get_model()\n",
    "model.summary()\n",
    "\n",
    "callbacks = [\n",
    "    keras.callbacks.ModelCheckpoint(\"resultados/binary_2gram_count.keras\", save_best_only=True)\n",
    "]\n",
    "model.fit(binary_2gram_count_train_ds.cache(), validation_data=binary_2gram_count_val_ds.cache(), epochs=10, callbacks=callbacks)\n",
    "model = keras.models.load_model(\"resultados/binary_2gram_count.keras\")\n",
    "print(f\"Test acc: {model.evaluate(binary_2gram_test_ds)[1]:.3f}\")"
   ]
  },
  {
   "cell_type": "code",
   "execution_count": 41,
   "id": "ae99729c",
   "metadata": {},
   "outputs": [
    {
     "name": "stderr",
     "output_type": "stream",
     "text": [
      "2025-09-03 14:43:18.049332: W tensorflow/core/framework/local_rendezvous.cc:404] Local rendezvous is aborting with status: OUT_OF_RANGE: End of sequence\n"
     ]
    },
    {
     "data": {
      "text/html": [
       "<pre style=\"white-space:pre;overflow-x:auto;line-height:normal;font-family:Menlo,'DejaVu Sans Mono',consolas,'Courier New',monospace\"><span style=\"font-weight: bold\">Model: \"functional_3\"</span>\n",
       "</pre>\n"
      ],
      "text/plain": [
       "\u001b[1mModel: \"functional_3\"\u001b[0m\n"
      ]
     },
     "metadata": {},
     "output_type": "display_data"
    },
    {
     "data": {
      "text/html": [
       "<pre style=\"white-space:pre;overflow-x:auto;line-height:normal;font-family:Menlo,'DejaVu Sans Mono',consolas,'Courier New',monospace\">┏━━━━━━━━━━━━━━━━━━━━━━━━━━━━━━━━━┳━━━━━━━━━━━━━━━━━━━━━━━━┳━━━━━━━━━━━━━━━┓\n",
       "┃<span style=\"font-weight: bold\"> Layer (type)                    </span>┃<span style=\"font-weight: bold\"> Output Shape           </span>┃<span style=\"font-weight: bold\">       Param # </span>┃\n",
       "┡━━━━━━━━━━━━━━━━━━━━━━━━━━━━━━━━━╇━━━━━━━━━━━━━━━━━━━━━━━━╇━━━━━━━━━━━━━━━┩\n",
       "│ input_layer_3 (<span style=\"color: #0087ff; text-decoration-color: #0087ff\">InputLayer</span>)      │ (<span style=\"color: #00d7ff; text-decoration-color: #00d7ff\">None</span>, <span style=\"color: #00af00; text-decoration-color: #00af00\">20000</span>)          │             <span style=\"color: #00af00; text-decoration-color: #00af00\">0</span> │\n",
       "├─────────────────────────────────┼────────────────────────┼───────────────┤\n",
       "│ dense_6 (<span style=\"color: #0087ff; text-decoration-color: #0087ff\">Dense</span>)                 │ (<span style=\"color: #00d7ff; text-decoration-color: #00d7ff\">None</span>, <span style=\"color: #00af00; text-decoration-color: #00af00\">16</span>)             │       <span style=\"color: #00af00; text-decoration-color: #00af00\">320,016</span> │\n",
       "├─────────────────────────────────┼────────────────────────┼───────────────┤\n",
       "│ dropout_3 (<span style=\"color: #0087ff; text-decoration-color: #0087ff\">Dropout</span>)             │ (<span style=\"color: #00d7ff; text-decoration-color: #00d7ff\">None</span>, <span style=\"color: #00af00; text-decoration-color: #00af00\">16</span>)             │             <span style=\"color: #00af00; text-decoration-color: #00af00\">0</span> │\n",
       "├─────────────────────────────────┼────────────────────────┼───────────────┤\n",
       "│ dense_7 (<span style=\"color: #0087ff; text-decoration-color: #0087ff\">Dense</span>)                 │ (<span style=\"color: #00d7ff; text-decoration-color: #00d7ff\">None</span>, <span style=\"color: #00af00; text-decoration-color: #00af00\">1</span>)              │            <span style=\"color: #00af00; text-decoration-color: #00af00\">17</span> │\n",
       "└─────────────────────────────────┴────────────────────────┴───────────────┘\n",
       "</pre>\n"
      ],
      "text/plain": [
       "┏━━━━━━━━━━━━━━━━━━━━━━━━━━━━━━━━━┳━━━━━━━━━━━━━━━━━━━━━━━━┳━━━━━━━━━━━━━━━┓\n",
       "┃\u001b[1m \u001b[0m\u001b[1mLayer (type)                   \u001b[0m\u001b[1m \u001b[0m┃\u001b[1m \u001b[0m\u001b[1mOutput Shape          \u001b[0m\u001b[1m \u001b[0m┃\u001b[1m \u001b[0m\u001b[1m      Param #\u001b[0m\u001b[1m \u001b[0m┃\n",
       "┡━━━━━━━━━━━━━━━━━━━━━━━━━━━━━━━━━╇━━━━━━━━━━━━━━━━━━━━━━━━╇━━━━━━━━━━━━━━━┩\n",
       "│ input_layer_3 (\u001b[38;5;33mInputLayer\u001b[0m)      │ (\u001b[38;5;45mNone\u001b[0m, \u001b[38;5;34m20000\u001b[0m)          │             \u001b[38;5;34m0\u001b[0m │\n",
       "├─────────────────────────────────┼────────────────────────┼───────────────┤\n",
       "│ dense_6 (\u001b[38;5;33mDense\u001b[0m)                 │ (\u001b[38;5;45mNone\u001b[0m, \u001b[38;5;34m16\u001b[0m)             │       \u001b[38;5;34m320,016\u001b[0m │\n",
       "├─────────────────────────────────┼────────────────────────┼───────────────┤\n",
       "│ dropout_3 (\u001b[38;5;33mDropout\u001b[0m)             │ (\u001b[38;5;45mNone\u001b[0m, \u001b[38;5;34m16\u001b[0m)             │             \u001b[38;5;34m0\u001b[0m │\n",
       "├─────────────────────────────────┼────────────────────────┼───────────────┤\n",
       "│ dense_7 (\u001b[38;5;33mDense\u001b[0m)                 │ (\u001b[38;5;45mNone\u001b[0m, \u001b[38;5;34m1\u001b[0m)              │            \u001b[38;5;34m17\u001b[0m │\n",
       "└─────────────────────────────────┴────────────────────────┴───────────────┘\n"
      ]
     },
     "metadata": {},
     "output_type": "display_data"
    },
    {
     "data": {
      "text/html": [
       "<pre style=\"white-space:pre;overflow-x:auto;line-height:normal;font-family:Menlo,'DejaVu Sans Mono',consolas,'Courier New',monospace\"><span style=\"font-weight: bold\"> Total params: </span><span style=\"color: #00af00; text-decoration-color: #00af00\">320,033</span> (1.22 MB)\n",
       "</pre>\n"
      ],
      "text/plain": [
       "\u001b[1m Total params: \u001b[0m\u001b[38;5;34m320,033\u001b[0m (1.22 MB)\n"
      ]
     },
     "metadata": {},
     "output_type": "display_data"
    },
    {
     "data": {
      "text/html": [
       "<pre style=\"white-space:pre;overflow-x:auto;line-height:normal;font-family:Menlo,'DejaVu Sans Mono',consolas,'Courier New',monospace\"><span style=\"font-weight: bold\"> Trainable params: </span><span style=\"color: #00af00; text-decoration-color: #00af00\">320,033</span> (1.22 MB)\n",
       "</pre>\n"
      ],
      "text/plain": [
       "\u001b[1m Trainable params: \u001b[0m\u001b[38;5;34m320,033\u001b[0m (1.22 MB)\n"
      ]
     },
     "metadata": {},
     "output_type": "display_data"
    },
    {
     "data": {
      "text/html": [
       "<pre style=\"white-space:pre;overflow-x:auto;line-height:normal;font-family:Menlo,'DejaVu Sans Mono',consolas,'Courier New',monospace\"><span style=\"font-weight: bold\"> Non-trainable params: </span><span style=\"color: #00af00; text-decoration-color: #00af00\">0</span> (0.00 B)\n",
       "</pre>\n"
      ],
      "text/plain": [
       "\u001b[1m Non-trainable params: \u001b[0m\u001b[38;5;34m0\u001b[0m (0.00 B)\n"
      ]
     },
     "metadata": {},
     "output_type": "display_data"
    },
    {
     "name": "stdout",
     "output_type": "stream",
     "text": [
      "Epoch 1/10\n",
      "\u001b[1m625/625\u001b[0m \u001b[32m━━━━━━━━━━━━━━━━━━━━\u001b[0m\u001b[37m\u001b[0m \u001b[1m7s\u001b[0m 10ms/step - accuracy: 0.7491 - loss: 1.1130 - val_accuracy: 0.8592 - val_loss: 0.4973\n",
      "Epoch 2/10\n",
      "\u001b[1m625/625\u001b[0m \u001b[32m━━━━━━━━━━━━━━━━━━━━\u001b[0m\u001b[37m\u001b[0m \u001b[1m6s\u001b[0m 9ms/step - accuracy: 0.8806 - loss: 0.4267 - val_accuracy: 0.9078 - val_loss: 0.2630\n",
      "Epoch 3/10\n",
      "\u001b[1m625/625\u001b[0m \u001b[32m━━━━━━━━━━━━━━━━━━━━\u001b[0m\u001b[37m\u001b[0m \u001b[1m6s\u001b[0m 9ms/step - accuracy: 0.9099 - loss: 0.2786 - val_accuracy: 0.9152 - val_loss: 0.2396\n",
      "Epoch 4/10\n",
      "\u001b[1m625/625\u001b[0m \u001b[32m━━━━━━━━━━━━━━━━━━━━\u001b[0m\u001b[37m\u001b[0m \u001b[1m6s\u001b[0m 9ms/step - accuracy: 0.9208 - loss: 0.2358 - val_accuracy: 0.9132 - val_loss: 0.2379\n",
      "Epoch 5/10\n",
      "\u001b[1m625/625\u001b[0m \u001b[32m━━━━━━━━━━━━━━━━━━━━\u001b[0m\u001b[37m\u001b[0m \u001b[1m6s\u001b[0m 9ms/step - accuracy: 0.9285 - loss: 0.2205 - val_accuracy: 0.9118 - val_loss: 0.2374\n",
      "Epoch 6/10\n",
      "\u001b[1m625/625\u001b[0m \u001b[32m━━━━━━━━━━━━━━━━━━━━\u001b[0m\u001b[37m\u001b[0m \u001b[1m6s\u001b[0m 9ms/step - accuracy: 0.9329 - loss: 0.2034 - val_accuracy: 0.9092 - val_loss: 0.2501\n",
      "Epoch 7/10\n",
      "\u001b[1m625/625\u001b[0m \u001b[32m━━━━━━━━━━━━━━━━━━━━\u001b[0m\u001b[37m\u001b[0m \u001b[1m6s\u001b[0m 9ms/step - accuracy: 0.9337 - loss: 0.2065 - val_accuracy: 0.9114 - val_loss: 0.2437\n",
      "Epoch 8/10\n",
      "\u001b[1m625/625\u001b[0m \u001b[32m━━━━━━━━━━━━━━━━━━━━\u001b[0m\u001b[37m\u001b[0m \u001b[1m6s\u001b[0m 9ms/step - accuracy: 0.9354 - loss: 0.1967 - val_accuracy: 0.9098 - val_loss: 0.2558\n",
      "Epoch 9/10\n",
      "\u001b[1m625/625\u001b[0m \u001b[32m━━━━━━━━━━━━━━━━━━━━\u001b[0m\u001b[37m\u001b[0m \u001b[1m6s\u001b[0m 9ms/step - accuracy: 0.9360 - loss: 0.2052 - val_accuracy: 0.9094 - val_loss: 0.2511\n",
      "Epoch 10/10\n",
      "\u001b[1m625/625\u001b[0m \u001b[32m━━━━━━━━━━━━━━━━━━━━\u001b[0m\u001b[37m\u001b[0m \u001b[1m6s\u001b[0m 9ms/step - accuracy: 0.9395 - loss: 0.1960 - val_accuracy: 0.9122 - val_loss: 0.2435\n",
      "\u001b[1m782/782\u001b[0m \u001b[32m━━━━━━━━━━━━━━━━━━━━\u001b[0m\u001b[37m\u001b[0m \u001b[1m6s\u001b[0m 8ms/step - accuracy: 0.8924 - loss: 0.3903\n",
      "Test acc: 0.892\n"
     ]
    }
   ],
   "source": [
    "text_only_train_ds = train_ds.map(lambda x, y: x).unbatch()\n",
    "\n",
    "text_vectorization = TextVectorization(\n",
    "    ngrams=2,\n",
    "    max_tokens=20000,\n",
    "    output_mode=\"tf_idf\",\n",
    ")\n",
    "text_vectorization.adapt(text_only_train_ds)\n",
    "\n",
    "binary_2gram_tf_idf_train_ds = train_ds.map(lambda x, y: (text_vectorization(x), y), num_parallel_calls=4)\n",
    "binary_2gram_tf_idf_val_ds = val_ds.map(lambda x, y: (text_vectorization(x), y), num_parallel_calls=4)\n",
    "binary_2gram_tf_idf_test_ds = test_ds.map(lambda x, y: (text_vectorization(x), y), num_parallel_calls=4)\n",
    "model = get_model()\n",
    "model.summary()\n",
    "\n",
    "callbacks = [\n",
    "    keras.callbacks.ModelCheckpoint(\"resultados/binary_2gram_tf_idf.keras\", save_best_only=True)\n",
    "]\n",
    "model.fit(binary_2gram_tf_idf_train_ds.cache(), validation_data=binary_2gram_tf_idf_val_ds.cache(), epochs=10, callbacks=callbacks)\n",
    "model = keras.models.load_model(\"resultados/binary_2gram_tf_idf.keras\")\n",
    "print(f\"Test acc: {model.evaluate(binary_2gram_test_ds)[1]:.3f}\")"
   ]
  }
 ],
 "metadata": {
  "kernelspec": {
   "display_name": "3.10.15",
   "language": "python",
   "name": "python3"
  },
  "language_info": {
   "codemirror_mode": {
    "name": "ipython",
    "version": 3
   },
   "file_extension": ".py",
   "mimetype": "text/x-python",
   "name": "python",
   "nbconvert_exporter": "python",
   "pygments_lexer": "ipython3",
   "version": "3.10.15"
  }
 },
 "nbformat": 4,
 "nbformat_minor": 5
}
