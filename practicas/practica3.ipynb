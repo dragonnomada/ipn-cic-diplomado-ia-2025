{
 "cells": [
  {
   "cell_type": "markdown",
   "id": "fe07d41d",
   "metadata": {},
   "source": [
    "# Práctica 3 - Tokenización WordPiece\n",
    "\n",
    "> **Intituto Politécnico Nacional**\n",
    ">\n",
    "> **Centro de Investigación en Computación**\n",
    ">\n",
    "> \n",
    "> \n",
    "> Departamento de Diplomados y Extensión Profesional\n",
    "> \n",
    "> Diplomado en Inteligencia Artificial\n",
    "> \n",
    "> * Módulo 11 - Parte I\n",
    "> \n",
    "> Profesor: Alan Badillo Salas (badillosalas@outlook.com)"
   ]
  },
  {
   "cell_type": "code",
   "execution_count": 1,
   "id": "96fb8e15",
   "metadata": {},
   "outputs": [],
   "source": [
    "# Sample corpus as a list of sentences\n",
    "corpus = [\n",
    "    \"This is the Hugging Face Course.\",\n",
    "    \"This chapter is about tokenization.\",\n",
    "    \"This section shows several tokenizer algorithms.\",\n",
    "    \"Hopefully, you will be able to understand how they are trained and generate tokens.\",\n",
    "]\n",
    "\n",
    "# Write corpus to a temporary text file for training\n",
    "with open(\"resultados/corpus_hugging.txt\", \"w\") as f:\n",
    "    for line in corpus:\n",
    "        f.write(f\"{line}\\n\")"
   ]
  },
  {
   "cell_type": "code",
   "execution_count": null,
   "id": "05be7b67",
   "metadata": {},
   "outputs": [
    {
     "name": "stdout",
     "output_type": "stream",
     "text": [
      "\n",
      "\n",
      "\n",
      "Encoded: ['und', '##er', '##s', '##t', '##and']\n",
      "Decoded: understand\n"
     ]
    }
   ],
   "source": [
    "from tokenizers import BertWordPieceTokenizer\n",
    "\n",
    "# Initialize the BPE tokenizer\n",
    "tokenizer = BertWordPieceTokenizer()\n",
    "\n",
    "# Train the tokenizer on the corpus\n",
    "tokenizer.train(files=[\"resultados/corpus_hugging.txt\"], vocab_size=100, min_frequency=1)\n",
    "\n",
    "# Save the tokenizer\n",
    "tokenizer.save_model(\".\", \"resultados/wordpiece_tokenizer\")\n",
    "\n",
    "# Test the tokenizer\n",
    "encoded = tokenizer.encode(\"understand\")\n",
    "print(\"Encoded:\", encoded.tokens)\n",
    "\n",
    "# Decode tokens back to text\n",
    "decoded = tokenizer.decode(encoded.ids)\n",
    "print(\"Decoded:\", decoded)"
   ]
  }
 ],
 "metadata": {
  "kernelspec": {
   "display_name": "Python 3",
   "language": "python",
   "name": "python3"
  },
  "language_info": {
   "codemirror_mode": {
    "name": "ipython",
    "version": 3
   },
   "file_extension": ".py",
   "mimetype": "text/x-python",
   "name": "python",
   "nbconvert_exporter": "python",
   "pygments_lexer": "ipython3",
   "version": "3.13.5"
  }
 },
 "nbformat": 4,
 "nbformat_minor": 5
}
