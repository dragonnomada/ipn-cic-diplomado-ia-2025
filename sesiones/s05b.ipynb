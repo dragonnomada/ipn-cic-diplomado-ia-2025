{
 "cells": [
  {
   "cell_type": "code",
   "execution_count": 1,
   "id": "af143d57",
   "metadata": {},
   "outputs": [
    {
     "name": "stdout",
     "output_type": "stream",
     "text": [
      "https://api.openai.com/v1/\n"
     ]
    }
   ],
   "source": [
    "from openai import OpenAI\n",
    "\n",
    "with open(\"openai.key\", \"r\") as file:\n",
    "    api_key = file.read().strip()\n",
    "\n",
    "client = OpenAI(api_key=api_key)\n",
    "\n",
    "print(client.base_url)"
   ]
  },
  {
   "cell_type": "code",
   "execution_count": 2,
   "id": "bb6e2327",
   "metadata": {},
   "outputs": [
    {
     "data": {
      "text/plain": [
       "'```json\\n[\\n  {\"edad\": 42},{\"edad\": 42},{\"edad\": 35},{\"edad\": 42},{\"edad\": 50},{\"edad\": 42},{\"edad\": 42},{\"edad\": 38},{\"edad\": 42},{\"edad\": 42},\\n  {\"edad\": 42},{\"edad\": 42},{\"edad\": 45},{\"edad\": 42},{\"edad\": 42},{\"edad\": 42},{\"edad\": 43},{\"edad\": 42},{\"edad\": 42},{\"edad\": 37},\\n  {\"edad\": 42},{\"edad\": 42},{\"edad\": 42},{\"edad\": 44},{\"edad\": 42},{\"edad\": 42},{\"edad\": 39},{\"edad\": 42},{\"edad\": 42},{\"edad\": 42},\\n  {\"edad\": 42},{\"edad\": 42},{\"edad\": 41},{\"edad\": 42},{\"edad\": 42},{\"edad\": 42},{\"edad\": 42},{\"edad\": 36},{\"edad\": 42},{\"edad\": 42},\\n  {\"edad\": 46},{\"edad\": 42},{\"edad\": 42},{\"edad\": 42},{\"edad\": 42},{\"edad\": 40},{\"edad\": 42},{\"edad\": 42},{\"edad\": 42},{\"edad\": 42},\\n  {\"edad\": 42},{\"edad\": 42},{\"edad\": 42},{\"edad\": 42},{\"edad\": 42},{\"edad\": 42},{\"edad\": 42},{\"edad\": 42},{\"edad\": 42},{\"edad\": 42},\\n  {\"edad\": 42},{\"edad\": 42},{\"edad\": 42},{\"edad\": 33},{\"edad\": 42},{\"edad\": 42},{\"edad\": 42},{\"edad\": 42},{\"edad\": 42},{\"edad\": 42},\\n  {\"edad\": 42},{\"edad\": 42},{\"edad\": 42},{\"edad\": 47},{\"edad\": 42},{\"edad\": 42},{\"edad\": 42},{\"edad\": 42},{\"edad\": 42},{\"edad\": 42},\\n  {\"edad\": 42},{\"edad\": 42},{\"edad\": 42},{\"edad\": 42},{\"edad\": 42},{\"edad\": 42},{\"edad\": 42},{\"edad\": 42},{\"edad\": 42},{\"edad\": 42},\\n  {\"edad\": 42},{\"edad\": 42},{\"edad\": 42},{\"edad\": 42},{\"edad\": 42},{\"edad\": 42},{\"edad\": 42},{\"edad\": 42},{\"edad\": 42},{\"edad\": 42}\\n]\\n```'"
      ]
     },
     "execution_count": 2,
     "metadata": {},
     "output_type": "execute_result"
    }
   ],
   "source": [
    "response = client.responses.create(\n",
    "    model=\"gpt-4.1-mini\",\n",
    "    input=\"\"\"\n",
    "        Genera una lista de edades aleatorias entre 25 y 65 años con mayor concentración en los 42 años y que tenga 100 registros.\n",
    "\n",
    "        Devuelve un json framelist directo para pasarlo a pandas (no pongas comentarios o texto adicional solo el json)\n",
    "    \"\"\"\n",
    ")\n",
    "\n",
    "response.output_text"
   ]
  },
  {
   "cell_type": "code",
   "execution_count": 3,
   "id": "acfda413",
   "metadata": {},
   "outputs": [
    {
     "name": "stdout",
     "output_type": "stream",
     "text": [
      "```json\n",
      "[\n",
      "  {\"edad\": 42},{\"edad\": 42},{\"edad\": 35},{\"edad\": 42},{\"edad\": 50},{\"edad\": 42},{\"edad\": 42},{\"edad\": 38},{\"edad\": 42},{\"edad\": 42},\n",
      "  {\"edad\": 42},{\"edad\": 42},{\"edad\": 45},{\"edad\": 42},{\"edad\": 42},{\"edad\": 42},{\"edad\": 43},{\"edad\": 42},{\"edad\": 42},{\"edad\": 37},\n",
      "  {\"edad\": 42},{\"edad\": 42},{\"edad\": 42},{\"edad\": 44},{\"edad\": 42},{\"edad\": 42},{\"edad\": 39},{\"edad\": 42},{\"edad\": 42},{\"edad\": 42},\n",
      "  {\"edad\": 42},{\"edad\": 42},{\"edad\": 41},{\"edad\": 42},{\"edad\": 42},{\"edad\": 42},{\"edad\": 42},{\"edad\": 36},{\"edad\": 42},{\"edad\": 42},\n",
      "  {\"edad\": 46},{\"edad\": 42},{\"edad\": 42},{\"edad\": 42},{\"edad\": 42},{\"edad\": 40},{\"edad\": 42},{\"edad\": 42},{\"edad\": 42},{\"edad\": 42},\n",
      "  {\"edad\": 42},{\"edad\": 42},{\"edad\": 42},{\"edad\": 42},{\"edad\": 42},{\"edad\": 42},{\"edad\": 42},{\"edad\": 42},{\"edad\": 42},{\"edad\": 42},\n",
      "  {\"edad\": 42},{\"edad\": 42},{\"edad\": 42},{\"edad\": 33},{\"edad\": 42},{\"edad\": 42},{\"edad\": 42},{\"edad\": 42},{\"edad\": 42},{\"edad\": 42},\n",
      "  {\"edad\": 42},{\"edad\": 42},{\"edad\": 42},{\"edad\": 47},{\"edad\": 42},{\"edad\": 42},{\"edad\": 42},{\"edad\": 42},{\"edad\": 42},{\"edad\": 42},\n",
      "  {\"edad\": 42},{\"edad\": 42},{\"edad\": 42},{\"edad\": 42},{\"edad\": 42},{\"edad\": 42},{\"edad\": 42},{\"edad\": 42},{\"edad\": 42},{\"edad\": 42},\n",
      "  {\"edad\": 42},{\"edad\": 42},{\"edad\": 42},{\"edad\": 42},{\"edad\": 42},{\"edad\": 42},{\"edad\": 42},{\"edad\": 42},{\"edad\": 42},{\"edad\": 42}\n",
      "]\n",
      "```\n"
     ]
    }
   ],
   "source": [
    "print(response.output_text)"
   ]
  },
  {
   "cell_type": "code",
   "execution_count": 10,
   "id": "c1370f11",
   "metadata": {},
   "outputs": [
    {
     "data": {
      "text/plain": [
       "<Axes: ylabel='Frequency'>"
      ]
     },
     "execution_count": 10,
     "metadata": {},
     "output_type": "execute_result"
    },
    {
     "data": {
      "image/png": "[encoded data removed]",
      "text/plain": [
       "<Figure size 640x480 with 1 Axes>"
      ]
     },
     "metadata": {},
     "output_type": "display_data"
    }
   ],
   "source": [
    "import pandas\n",
    "\n",
    "pandas.DataFrame([\n",
    "  {\"edad\": 42},{\"edad\": 42},{\"edad\": 35},{\"edad\": 42},{\"edad\": 50},{\"edad\": 42},{\"edad\": 42},{\"edad\": 38},{\"edad\": 42},{\"edad\": 42},\n",
    "  {\"edad\": 42},{\"edad\": 42},{\"edad\": 45},{\"edad\": 42},{\"edad\": 42},{\"edad\": 42},{\"edad\": 43},{\"edad\": 42},{\"edad\": 42},{\"edad\": 37},\n",
    "  {\"edad\": 42},{\"edad\": 42},{\"edad\": 42},{\"edad\": 44},{\"edad\": 42},{\"edad\": 42},{\"edad\": 39},{\"edad\": 42},{\"edad\": 42},{\"edad\": 42},\n",
    "  {\"edad\": 42},{\"edad\": 42},{\"edad\": 41},{\"edad\": 42},{\"edad\": 42},{\"edad\": 42},{\"edad\": 42},{\"edad\": 36},{\"edad\": 42},{\"edad\": 42},\n",
    "  {\"edad\": 46},{\"edad\": 42},{\"edad\": 42},{\"edad\": 42},{\"edad\": 42},{\"edad\": 40},{\"edad\": 42},{\"edad\": 42},{\"edad\": 42},{\"edad\": 42},\n",
    "  {\"edad\": 42},{\"edad\": 42},{\"edad\": 42},{\"edad\": 42},{\"edad\": 42},{\"edad\": 42},{\"edad\": 42},{\"edad\": 42},{\"edad\": 42},{\"edad\": 42},\n",
    "  {\"edad\": 42},{\"edad\": 42},{\"edad\": 42},{\"edad\": 33},{\"edad\": 42},{\"edad\": 42},{\"edad\": 42},{\"edad\": 42},{\"edad\": 42},{\"edad\": 42},\n",
    "  {\"edad\": 42},{\"edad\": 42},{\"edad\": 42},{\"edad\": 47},{\"edad\": 42},{\"edad\": 42},{\"edad\": 42},{\"edad\": 42},{\"edad\": 42},{\"edad\": 42},\n",
    "  {\"edad\": 42},{\"edad\": 42},{\"edad\": 42},{\"edad\": 42},{\"edad\": 42},{\"edad\": 42},{\"edad\": 42},{\"edad\": 42},{\"edad\": 42},{\"edad\": 42},\n",
    "  {\"edad\": 42},{\"edad\": 42},{\"edad\": 42},{\"edad\": 42},{\"edad\": 42},{\"edad\": 42},{\"edad\": 42},{\"edad\": 42},{\"edad\": 42},{\"edad\": 42}\n",
    "])[\"edad\"].plot.hist()"
   ]
  },
  {
   "cell_type": "code",
   "execution_count": 4,
   "id": "5758eadc",
   "metadata": {},
   "outputs": [
    {
     "data": {
      "text/plain": [
       "'```json\\n[\\n    {\"edad\": 42}, {\"edad\": 42}, {\"edad\": 42}, {\"edad\": 42}, {\"edad\": 42},\\n    {\"edad\": 42}, {\"edad\": 42}, {\"edad\": 42}, {\"edad\": 42}, {\"edad\": 42},\\n    {\"edad\": 42}, {\"edad\": 42}, {\"edad\": 42}, {\"edad\": 42}, {\"edad\": 42},\\n    {\"edad\": 42}, {\"edad\": 42}, {\"edad\": 42}, {\"edad\": 42}, {\"edad\": 42},\\n    {\"edad\": 42}, {\"edad\": 42}, {\"edad\": 42}, {\"edad\": 42}, {\"edad\": 42},\\n    {\"edad\": 42}, {\"edad\": 42}, {\"edad\": 42}, {\"edad\": 42}, {\"edad\": 42},\\n    {\"edad\": 39}, {\"edad\": 37}, {\"edad\": 41}, {\"edad\": 36}, {\"edad\": 43},\\n    {\"edad\": 40}, {\"edad\": 38}, {\"edad\": 44}, {\"edad\": 41}, {\"edad\": 45},\\n    {\"edad\": 46}, {\"edad\": 35}, {\"edad\": 37}, {\"edad\": 43}, {\"edad\": 45},\\n    {\"edad\": 41}, {\"edad\": 47}, {\"edad\": 33}, {\"edad\": 34}, {\"edad\": 38},\\n    {\"edad\": 50}, {\"edad\": 30}, {\"edad\": 48}, {\"edad\": 45}, {\"edad\": 39},\\n    {\"edad\": 49}, {\"edad\": 33}, {\"edad\": 50}, {\"edad\": 35}, {\"edad\": 52},\\n    {\"edad\": 54}, {\"edad\": 58}, {\"edad\": 60}, {\"edad\": 61}, {\"edad\": 62},\\n    {\"edad\": 29}, {\"edad\": 27}, {\"edad\": 64}, {\"edad\": 53}, {\"edad\": 55},\\n    {\"edad\": 57}, {\"edad\": 51}, {\"edad\": 46}, {\"edad\": 63}, {\"edad\": 56},\\n    {\"edad\": 59}, {\"edad\": 44}, {\"edad\": 31}, {\"edad\": 28}, {\"edad\": 32},\\n    {\"edad\": 40}, {\"edad\": 48}, {\"edad\": 34}, {\"edad\": 25}, {\"edad\": 49},\\n    {\"edad\": 42}, {\"edad\": 42}, {\"edad\": 42}, {\"edad\": 42}, {\"edad\": 42},\\n    {\"edad\": 42}, {\"edad\": 42}, {\"edad\": 42}, {\"edad\": 42}, {\"edad\": 42}\\n]\\n```'"
      ]
     },
     "execution_count": 4,
     "metadata": {},
     "output_type": "execute_result"
    }
   ],
   "source": [
    "response = client.responses.create(\n",
    "    model=\"gpt-4o\",\n",
    "    input=\"\"\"\n",
    "        Genera una lista de edades aleatorias entre 25 y 65 años con mayor concentración en los 42 años y que tenga 100 registros.\n",
    "\n",
    "        Devuelve un json framelist directo para pasarlo a pandas (no pongas comentarios o texto adicional solo el json)\n",
    "    \"\"\"\n",
    ")\n",
    "\n",
    "response.output_text"
   ]
  },
  {
   "cell_type": "code",
   "execution_count": 5,
   "id": "3cd27a86",
   "metadata": {},
   "outputs": [
    {
     "name": "stdout",
     "output_type": "stream",
     "text": [
      "```json\n",
      "[\n",
      "    {\"edad\": 42}, {\"edad\": 42}, {\"edad\": 42}, {\"edad\": 42}, {\"edad\": 42},\n",
      "    {\"edad\": 42}, {\"edad\": 42}, {\"edad\": 42}, {\"edad\": 42}, {\"edad\": 42},\n",
      "    {\"edad\": 42}, {\"edad\": 42}, {\"edad\": 42}, {\"edad\": 42}, {\"edad\": 42},\n",
      "    {\"edad\": 42}, {\"edad\": 42}, {\"edad\": 42}, {\"edad\": 42}, {\"edad\": 42},\n",
      "    {\"edad\": 42}, {\"edad\": 42}, {\"edad\": 42}, {\"edad\": 42}, {\"edad\": 42},\n",
      "    {\"edad\": 42}, {\"edad\": 42}, {\"edad\": 42}, {\"edad\": 42}, {\"edad\": 42},\n",
      "    {\"edad\": 39}, {\"edad\": 37}, {\"edad\": 41}, {\"edad\": 36}, {\"edad\": 43},\n",
      "    {\"edad\": 40}, {\"edad\": 38}, {\"edad\": 44}, {\"edad\": 41}, {\"edad\": 45},\n",
      "    {\"edad\": 46}, {\"edad\": 35}, {\"edad\": 37}, {\"edad\": 43}, {\"edad\": 45},\n",
      "    {\"edad\": 41}, {\"edad\": 47}, {\"edad\": 33}, {\"edad\": 34}, {\"edad\": 38},\n",
      "    {\"edad\": 50}, {\"edad\": 30}, {\"edad\": 48}, {\"edad\": 45}, {\"edad\": 39},\n",
      "    {\"edad\": 49}, {\"edad\": 33}, {\"edad\": 50}, {\"edad\": 35}, {\"edad\": 52},\n",
      "    {\"edad\": 54}, {\"edad\": 58}, {\"edad\": 60}, {\"edad\": 61}, {\"edad\": 62},\n",
      "    {\"edad\": 29}, {\"edad\": 27}, {\"edad\": 64}, {\"edad\": 53}, {\"edad\": 55},\n",
      "    {\"edad\": 57}, {\"edad\": 51}, {\"edad\": 46}, {\"edad\": 63}, {\"edad\": 56},\n",
      "    {\"edad\": 59}, {\"edad\": 44}, {\"edad\": 31}, {\"edad\": 28}, {\"edad\": 32},\n",
      "    {\"edad\": 40}, {\"edad\": 48}, {\"edad\": 34}, {\"edad\": 25}, {\"edad\": 49},\n",
      "    {\"edad\": 42}, {\"edad\": 42}, {\"edad\": 42}, {\"edad\": 42}, {\"edad\": 42},\n",
      "    {\"edad\": 42}, {\"edad\": 42}, {\"edad\": 42}, {\"edad\": 42}, {\"edad\": 42}\n",
      "]\n",
      "```\n"
     ]
    }
   ],
   "source": [
    "print(response.output_text)"
   ]
  },
  {
   "cell_type": "code",
   "execution_count": 12,
   "id": "61fa7b31",
   "metadata": {},
   "outputs": [
    {
     "data": {
      "text/plain": [
       "<Axes: ylabel='Frequency'>"
      ]
     },
     "execution_count": 12,
     "metadata": {},
     "output_type": "execute_result"
    },
    {
     "data": {
      "image/png": "[encoded data removed]",
      "text/plain": [
       "<Figure size 640x480 with 1 Axes>"
      ]
     },
     "metadata": {},
     "output_type": "display_data"
    }
   ],
   "source": [
    "report = pandas.DataFrame([\n",
    "    {\"edad\": 42}, {\"edad\": 42}, {\"edad\": 42}, {\"edad\": 42}, {\"edad\": 42},\n",
    "    {\"edad\": 42}, {\"edad\": 42}, {\"edad\": 42}, {\"edad\": 42}, {\"edad\": 42},\n",
    "    {\"edad\": 42}, {\"edad\": 42}, {\"edad\": 42}, {\"edad\": 42}, {\"edad\": 42},\n",
    "    {\"edad\": 42}, {\"edad\": 42}, {\"edad\": 42}, {\"edad\": 42}, {\"edad\": 42},\n",
    "    {\"edad\": 42}, {\"edad\": 42}, {\"edad\": 42}, {\"edad\": 42}, {\"edad\": 42},\n",
    "    {\"edad\": 42}, {\"edad\": 42}, {\"edad\": 42}, {\"edad\": 42}, {\"edad\": 42},\n",
    "    {\"edad\": 39}, {\"edad\": 37}, {\"edad\": 41}, {\"edad\": 36}, {\"edad\": 43},\n",
    "    {\"edad\": 40}, {\"edad\": 38}, {\"edad\": 44}, {\"edad\": 41}, {\"edad\": 45},\n",
    "    {\"edad\": 46}, {\"edad\": 35}, {\"edad\": 37}, {\"edad\": 43}, {\"edad\": 45},\n",
    "    {\"edad\": 41}, {\"edad\": 47}, {\"edad\": 33}, {\"edad\": 34}, {\"edad\": 38},\n",
    "    {\"edad\": 50}, {\"edad\": 30}, {\"edad\": 48}, {\"edad\": 45}, {\"edad\": 39},\n",
    "    {\"edad\": 49}, {\"edad\": 33}, {\"edad\": 50}, {\"edad\": 35}, {\"edad\": 52},\n",
    "    {\"edad\": 54}, {\"edad\": 58}, {\"edad\": 60}, {\"edad\": 61}, {\"edad\": 62},\n",
    "    {\"edad\": 29}, {\"edad\": 27}, {\"edad\": 64}, {\"edad\": 53}, {\"edad\": 55},\n",
    "    {\"edad\": 57}, {\"edad\": 51}, {\"edad\": 46}, {\"edad\": 63}, {\"edad\": 56},\n",
    "    {\"edad\": 59}, {\"edad\": 44}, {\"edad\": 31}, {\"edad\": 28}, {\"edad\": 32},\n",
    "    {\"edad\": 40}, {\"edad\": 48}, {\"edad\": 34}, {\"edad\": 25}, {\"edad\": 49},\n",
    "    {\"edad\": 42}, {\"edad\": 42}, {\"edad\": 42}, {\"edad\": 42}, {\"edad\": 42},\n",
    "    {\"edad\": 42}, {\"edad\": 42}, {\"edad\": 42}, {\"edad\": 42}, {\"edad\": 42}\n",
    "])\n",
    "\n",
    "report[\"edad\"].plot.hist()"
   ]
  },
  {
   "cell_type": "code",
   "execution_count": 13,
   "id": "ec4197fa",
   "metadata": {},
   "outputs": [
    {
     "data": {
      "text/plain": [
       "edad\n",
       "42    40\n",
       "41     3\n",
       "45     3\n",
       "46     2\n",
       "39     2\n",
       "49     2\n",
       "48     2\n",
       "50     2\n",
       "34     2\n",
       "35     2\n",
       "33     2\n",
       "44     2\n",
       "38     2\n",
       "40     2\n",
       "43     2\n",
       "37     2\n",
       "28     1\n",
       "64     1\n",
       "31     1\n",
       "32     1\n",
       "59     1\n",
       "56     1\n",
       "63     1\n",
       "51     1\n",
       "57     1\n",
       "55     1\n",
       "53     1\n",
       "52     1\n",
       "27     1\n",
       "29     1\n",
       "62     1\n",
       "61     1\n",
       "60     1\n",
       "58     1\n",
       "54     1\n",
       "30     1\n",
       "47     1\n",
       "36     1\n",
       "25     1\n",
       "Name: count, dtype: int64"
      ]
     },
     "execution_count": 13,
     "metadata": {},
     "output_type": "execute_result"
    }
   ],
   "source": [
    "report[\"edad\"].value_counts()"
   ]
  },
  {
   "cell_type": "code",
   "execution_count": 14,
   "id": "f8793444",
   "metadata": {},
   "outputs": [
    {
     "data": {
      "text/plain": [
       "'[\\n  {\"edad\": 42},\\n  {\"edad\": 42},\\n  {\"edad\": 42},\\n  {\"edad\": 42},\\n  {\"edad\": 42},\\n  {\"edad\": 42},\\n  {\"edad\": 42},\\n  {\"edad\": 42},\\n  {\"edad\": 42},\\n  {\"edad\": 42},\\n  {\"edad\": 42},\\n  {\"edad\": 42},\\n  {\"edad\": 42},\\n  {\"edad\": 42},\\n  {\"edad\": 42},\\n  {\"edad\": 42},\\n  {\"edad\": 42},\\n  {\"edad\": 42},\\n  {\"edad\": 42},\\n  {\"edad\": 42},\\n  {\"edad\": 41},\\n  {\"edad\": 41},\\n  {\"edad\": 41},\\n  {\"edad\": 41},\\n  {\"edad\": 41},\\n  {\"edad\": 41},\\n  {\"edad\": 41},\\n  {\"edad\": 41},\\n  {\"edad\": 41},\\n  {\"edad\": 41},\\n  {\"edad\": 43},\\n  {\"edad\": 43},\\n  {\"edad\": 43},\\n  {\"edad\": 43},\\n  {\"edad\": 43},\\n  {\"edad\": 43},\\n  {\"edad\": 43},\\n  {\"edad\": 43},\\n  {\"edad\": 43},\\n  {\"edad\": 43},\\n  {\"edad\": 40},\\n  {\"edad\": 40},\\n  {\"edad\": 40},\\n  {\"edad\": 40},\\n  {\"edad\": 40},\\n  {\"edad\": 40},\\n  {\"edad\": 40},\\n  {\"edad\": 44},\\n  {\"edad\": 44},\\n  {\"edad\": 44},\\n  {\"edad\": 44},\\n  {\"edad\": 44},\\n  {\"edad\": 44},\\n  {\"edad\": 44},\\n  {\"edad\": 39},\\n  {\"edad\": 39},\\n  {\"edad\": 39},\\n  {\"edad\": 39},\\n  {\"edad\": 39},\\n  {\"edad\": 45},\\n  {\"edad\": 45},\\n  {\"edad\": 45},\\n  {\"edad\": 45},\\n  {\"edad\": 45},\\n  {\"edad\": 38},\\n  {\"edad\": 38},\\n  {\"edad\": 38},\\n  {\"edad\": 38},\\n  {\"edad\": 46},\\n  {\"edad\": 46},\\n  {\"edad\": 46},\\n  {\"edad\": 46},\\n  {\"edad\": 35},\\n  {\"edad\": 35},\\n  {\"edad\": 36},\\n  {\"edad\": 36},\\n  {\"edad\": 37},\\n  {\"edad\": 37},\\n  {\"edad\": 47},\\n  {\"edad\": 47},\\n  {\"edad\": 48},\\n  {\"edad\": 48},\\n  {\"edad\": 49},\\n  {\"edad\": 49},\\n  {\"edad\": 50},\\n  {\"edad\": 50},\\n  {\"edad\": 33},\\n  {\"edad\": 33},\\n  {\"edad\": 34},\\n  {\"edad\": 34},\\n  {\"edad\": 51},\\n  {\"edad\": 51},\\n  {\"edad\": 52},\\n  {\"edad\": 52},\\n  {\"edad\": 53},\\n  {\"edad\": 53},\\n  {\"edad\": 30},\\n  {\"edad\": 30},\\n  {\"edad\": 31},\\n  {\"edad\": 31}\\n]'"
      ]
     },
     "execution_count": 14,
     "metadata": {},
     "output_type": "execute_result"
    }
   ],
   "source": [
    "response = client.responses.create(\n",
    "    model=\"gpt-5\",\n",
    "    input=\"\"\"\n",
    "        Genera una lista de edades aleatorias entre 25 y 65 años con mayor concentración en los 42 años y que tenga 100 registros.\n",
    "\n",
    "        Devuelve un json framelist directo para pasarlo a pandas (no pongas comentarios o texto adicional solo el json)\n",
    "    \"\"\"\n",
    ")\n",
    "\n",
    "response.output_text"
   ]
  },
  {
   "cell_type": "code",
   "execution_count": 15,
   "id": "566fedd5",
   "metadata": {},
   "outputs": [
    {
     "name": "stdout",
     "output_type": "stream",
     "text": [
      "[\n",
      "  {\"edad\": 42},\n",
      "  {\"edad\": 42},\n",
      "  {\"edad\": 42},\n",
      "  {\"edad\": 42},\n",
      "  {\"edad\": 42},\n",
      "  {\"edad\": 42},\n",
      "  {\"edad\": 42},\n",
      "  {\"edad\": 42},\n",
      "  {\"edad\": 42},\n",
      "  {\"edad\": 42},\n",
      "  {\"edad\": 42},\n",
      "  {\"edad\": 42},\n",
      "  {\"edad\": 42},\n",
      "  {\"edad\": 42},\n",
      "  {\"edad\": 42},\n",
      "  {\"edad\": 42},\n",
      "  {\"edad\": 42},\n",
      "  {\"edad\": 42},\n",
      "  {\"edad\": 42},\n",
      "  {\"edad\": 42},\n",
      "  {\"edad\": 41},\n",
      "  {\"edad\": 41},\n",
      "  {\"edad\": 41},\n",
      "  {\"edad\": 41},\n",
      "  {\"edad\": 41},\n",
      "  {\"edad\": 41},\n",
      "  {\"edad\": 41},\n",
      "  {\"edad\": 41},\n",
      "  {\"edad\": 41},\n",
      "  {\"edad\": 41},\n",
      "  {\"edad\": 43},\n",
      "  {\"edad\": 43},\n",
      "  {\"edad\": 43},\n",
      "  {\"edad\": 43},\n",
      "  {\"edad\": 43},\n",
      "  {\"edad\": 43},\n",
      "  {\"edad\": 43},\n",
      "  {\"edad\": 43},\n",
      "  {\"edad\": 43},\n",
      "  {\"edad\": 43},\n",
      "  {\"edad\": 40},\n",
      "  {\"edad\": 40},\n",
      "  {\"edad\": 40},\n",
      "  {\"edad\": 40},\n",
      "  {\"edad\": 40},\n",
      "  {\"edad\": 40},\n",
      "  {\"edad\": 40},\n",
      "  {\"edad\": 44},\n",
      "  {\"edad\": 44},\n",
      "  {\"edad\": 44},\n",
      "  {\"edad\": 44},\n",
      "  {\"edad\": 44},\n",
      "  {\"edad\": 44},\n",
      "  {\"edad\": 44},\n",
      "  {\"edad\": 39},\n",
      "  {\"edad\": 39},\n",
      "  {\"edad\": 39},\n",
      "  {\"edad\": 39},\n",
      "  {\"edad\": 39},\n",
      "  {\"edad\": 45},\n",
      "  {\"edad\": 45},\n",
      "  {\"edad\": 45},\n",
      "  {\"edad\": 45},\n",
      "  {\"edad\": 45},\n",
      "  {\"edad\": 38},\n",
      "  {\"edad\": 38},\n",
      "  {\"edad\": 38},\n",
      "  {\"edad\": 38},\n",
      "  {\"edad\": 46},\n",
      "  {\"edad\": 46},\n",
      "  {\"edad\": 46},\n",
      "  {\"edad\": 46},\n",
      "  {\"edad\": 35},\n",
      "  {\"edad\": 35},\n",
      "  {\"edad\": 36},\n",
      "  {\"edad\": 36},\n",
      "  {\"edad\": 37},\n",
      "  {\"edad\": 37},\n",
      "  {\"edad\": 47},\n",
      "  {\"edad\": 47},\n",
      "  {\"edad\": 48},\n",
      "  {\"edad\": 48},\n",
      "  {\"edad\": 49},\n",
      "  {\"edad\": 49},\n",
      "  {\"edad\": 50},\n",
      "  {\"edad\": 50},\n",
      "  {\"edad\": 33},\n",
      "  {\"edad\": 33},\n",
      "  {\"edad\": 34},\n",
      "  {\"edad\": 34},\n",
      "  {\"edad\": 51},\n",
      "  {\"edad\": 51},\n",
      "  {\"edad\": 52},\n",
      "  {\"edad\": 52},\n",
      "  {\"edad\": 53},\n",
      "  {\"edad\": 53},\n",
      "  {\"edad\": 30},\n",
      "  {\"edad\": 30},\n",
      "  {\"edad\": 31},\n",
      "  {\"edad\": 31}\n",
      "]\n"
     ]
    }
   ],
   "source": [
    "print(response.output_text)"
   ]
  },
  {
   "cell_type": "code",
   "execution_count": 16,
   "id": "c6f4dfba",
   "metadata": {},
   "outputs": [
    {
     "data": {
      "text/plain": [
       "<Axes: ylabel='Frequency'>"
      ]
     },
     "execution_count": 16,
     "metadata": {},
     "output_type": "execute_result"
    },
    {
     "data": {
      "image/png": "[encoded data removed]",
      "text/plain": [
       "<Figure size 640x480 with 1 Axes>"
      ]
     },
     "metadata": {},
     "output_type": "display_data"
    }
   ],
   "source": [
    "import json\n",
    "\n",
    "report = pandas.DataFrame(json.loads(response.output_text))\n",
    "\n",
    "report[\"edad\"].plot.hist()"
   ]
  },
  {
   "cell_type": "markdown",
   "id": "48cb0e7e",
   "metadata": {},
   "source": [
    "## Caso de estudio: Obtener datos cualitativos (no conocidos) sobre el dataset de peliculas"
   ]
  },
  {
   "cell_type": "code",
   "execution_count": 17,
   "id": "f1ce221f",
   "metadata": {},
   "outputs": [
    {
     "data": {
      "text/html": [
       "<div>\n",
       "<style scoped>\n",
       "    .dataframe tbody tr th:only-of-type {\n",
       "        vertical-align: middle;\n",
       "    }\n",
       "\n",
       "    .dataframe tbody tr th {\n",
       "        vertical-align: top;\n",
       "    }\n",
       "\n",
       "    .dataframe thead th {\n",
       "        text-align: right;\n",
       "    }\n",
       "</style>\n",
       "<table border=\"1\" class=\"dataframe\">\n",
       "  <thead>\n",
       "    <tr style=\"text-align: right;\">\n",
       "      <th></th>\n",
       "      <th>movieId</th>\n",
       "      <th>title</th>\n",
       "      <th>genres</th>\n",
       "    </tr>\n",
       "  </thead>\n",
       "  <tbody>\n",
       "    <tr>\n",
       "      <th>0</th>\n",
       "      <td>1</td>\n",
       "      <td>Toy Story (1995)</td>\n",
       "      <td>Adventure|Animation|Children|Comedy|Fantasy</td>\n",
       "    </tr>\n",
       "    <tr>\n",
       "      <th>1</th>\n",
       "      <td>2</td>\n",
       "      <td>Jumanji (1995)</td>\n",
       "      <td>Adventure|Children|Fantasy</td>\n",
       "    </tr>\n",
       "    <tr>\n",
       "      <th>2</th>\n",
       "      <td>3</td>\n",
       "      <td>Grumpier Old Men (1995)</td>\n",
       "      <td>Comedy|Romance</td>\n",
       "    </tr>\n",
       "    <tr>\n",
       "      <th>3</th>\n",
       "      <td>4</td>\n",
       "      <td>Waiting to Exhale (1995)</td>\n",
       "      <td>Comedy|Drama|Romance</td>\n",
       "    </tr>\n",
       "    <tr>\n",
       "      <th>4</th>\n",
       "      <td>5</td>\n",
       "      <td>Father of the Bride Part II (1995)</td>\n",
       "      <td>Comedy</td>\n",
       "    </tr>\n",
       "    <tr>\n",
       "      <th>...</th>\n",
       "      <td>...</td>\n",
       "      <td>...</td>\n",
       "      <td>...</td>\n",
       "    </tr>\n",
       "    <tr>\n",
       "      <th>9737</th>\n",
       "      <td>193581</td>\n",
       "      <td>Black Butler: Book of the Atlantic (2017)</td>\n",
       "      <td>Action|Animation|Comedy|Fantasy</td>\n",
       "    </tr>\n",
       "    <tr>\n",
       "      <th>9738</th>\n",
       "      <td>193583</td>\n",
       "      <td>No Game No Life: Zero (2017)</td>\n",
       "      <td>Animation|Comedy|Fantasy</td>\n",
       "    </tr>\n",
       "    <tr>\n",
       "      <th>9739</th>\n",
       "      <td>193585</td>\n",
       "      <td>Flint (2017)</td>\n",
       "      <td>Drama</td>\n",
       "    </tr>\n",
       "    <tr>\n",
       "      <th>9740</th>\n",
       "      <td>193587</td>\n",
       "      <td>Bungo Stray Dogs: Dead Apple (2018)</td>\n",
       "      <td>Action|Animation</td>\n",
       "    </tr>\n",
       "    <tr>\n",
       "      <th>9741</th>\n",
       "      <td>193609</td>\n",
       "      <td>Andrew Dice Clay: Dice Rules (1991)</td>\n",
       "      <td>Comedy</td>\n",
       "    </tr>\n",
       "  </tbody>\n",
       "</table>\n",
       "<p>9742 rows × 3 columns</p>\n",
       "</div>"
      ],
      "text/plain": [
       "      movieId                                      title  \\\n",
       "0           1                           Toy Story (1995)   \n",
       "1           2                             Jumanji (1995)   \n",
       "2           3                    Grumpier Old Men (1995)   \n",
       "3           4                   Waiting to Exhale (1995)   \n",
       "4           5         Father of the Bride Part II (1995)   \n",
       "...       ...                                        ...   \n",
       "9737   193581  Black Butler: Book of the Atlantic (2017)   \n",
       "9738   193583               No Game No Life: Zero (2017)   \n",
       "9739   193585                               Flint (2017)   \n",
       "9740   193587        Bungo Stray Dogs: Dead Apple (2018)   \n",
       "9741   193609        Andrew Dice Clay: Dice Rules (1991)   \n",
       "\n",
       "                                           genres  \n",
       "0     Adventure|Animation|Children|Comedy|Fantasy  \n",
       "1                      Adventure|Children|Fantasy  \n",
       "2                                  Comedy|Romance  \n",
       "3                            Comedy|Drama|Romance  \n",
       "4                                          Comedy  \n",
       "...                                           ...  \n",
       "9737              Action|Animation|Comedy|Fantasy  \n",
       "9738                     Animation|Comedy|Fantasy  \n",
       "9739                                        Drama  \n",
       "9740                             Action|Animation  \n",
       "9741                                       Comedy  \n",
       "\n",
       "[9742 rows x 3 columns]"
      ]
     },
     "execution_count": 17,
     "metadata": {},
     "output_type": "execute_result"
    }
   ],
   "source": [
    "movies = pandas.read_csv(\"../datasets/movies.csv\")\n",
    "\n",
    "movies"
   ]
  },
  {
   "cell_type": "code",
   "execution_count": 24,
   "id": "2d5c46e3",
   "metadata": {},
   "outputs": [
    {
     "data": {
      "text/html": [
       "<div>\n",
       "<style scoped>\n",
       "    .dataframe tbody tr th:only-of-type {\n",
       "        vertical-align: middle;\n",
       "    }\n",
       "\n",
       "    .dataframe tbody tr th {\n",
       "        vertical-align: top;\n",
       "    }\n",
       "\n",
       "    .dataframe thead th {\n",
       "        text-align: right;\n",
       "    }\n",
       "</style>\n",
       "<table border=\"1\" class=\"dataframe\">\n",
       "  <thead>\n",
       "    <tr style=\"text-align: right;\">\n",
       "      <th></th>\n",
       "      <th>movieId</th>\n",
       "      <th>title</th>\n",
       "      <th>genres</th>\n",
       "      <th>title_name</th>\n",
       "    </tr>\n",
       "  </thead>\n",
       "  <tbody>\n",
       "    <tr>\n",
       "      <th>0</th>\n",
       "      <td>1</td>\n",
       "      <td>Toy Story (1995)</td>\n",
       "      <td>Adventure|Animation|Children|Comedy|Fantasy</td>\n",
       "      <td>Toy Story</td>\n",
       "    </tr>\n",
       "    <tr>\n",
       "      <th>1</th>\n",
       "      <td>2</td>\n",
       "      <td>Jumanji (1995)</td>\n",
       "      <td>Adventure|Children|Fantasy</td>\n",
       "      <td>Jumanji</td>\n",
       "    </tr>\n",
       "    <tr>\n",
       "      <th>2</th>\n",
       "      <td>3</td>\n",
       "      <td>Grumpier Old Men (1995)</td>\n",
       "      <td>Comedy|Romance</td>\n",
       "      <td>Grumpier Old Men</td>\n",
       "    </tr>\n",
       "    <tr>\n",
       "      <th>3</th>\n",
       "      <td>4</td>\n",
       "      <td>Waiting to Exhale (1995)</td>\n",
       "      <td>Comedy|Drama|Romance</td>\n",
       "      <td>Waiting to Exhale</td>\n",
       "    </tr>\n",
       "    <tr>\n",
       "      <th>4</th>\n",
       "      <td>5</td>\n",
       "      <td>Father of the Bride Part II (1995)</td>\n",
       "      <td>Comedy</td>\n",
       "      <td>Father of the Bride Part II</td>\n",
       "    </tr>\n",
       "    <tr>\n",
       "      <th>...</th>\n",
       "      <td>...</td>\n",
       "      <td>...</td>\n",
       "      <td>...</td>\n",
       "      <td>...</td>\n",
       "    </tr>\n",
       "    <tr>\n",
       "      <th>9737</th>\n",
       "      <td>193581</td>\n",
       "      <td>Black Butler: Book of the Atlantic (2017)</td>\n",
       "      <td>Action|Animation|Comedy|Fantasy</td>\n",
       "      <td>Black Butler: Book of the Atlantic</td>\n",
       "    </tr>\n",
       "    <tr>\n",
       "      <th>9738</th>\n",
       "      <td>193583</td>\n",
       "      <td>No Game No Life: Zero (2017)</td>\n",
       "      <td>Animation|Comedy|Fantasy</td>\n",
       "      <td>No Game No Life: Zero</td>\n",
       "    </tr>\n",
       "    <tr>\n",
       "      <th>9739</th>\n",
       "      <td>193585</td>\n",
       "      <td>Flint (2017)</td>\n",
       "      <td>Drama</td>\n",
       "      <td>Flint</td>\n",
       "    </tr>\n",
       "    <tr>\n",
       "      <th>9740</th>\n",
       "      <td>193587</td>\n",
       "      <td>Bungo Stray Dogs: Dead Apple (2018)</td>\n",
       "      <td>Action|Animation</td>\n",
       "      <td>Bungo Stray Dogs: Dead Apple</td>\n",
       "    </tr>\n",
       "    <tr>\n",
       "      <th>9741</th>\n",
       "      <td>193609</td>\n",
       "      <td>Andrew Dice Clay: Dice Rules (1991)</td>\n",
       "      <td>Comedy</td>\n",
       "      <td>Andrew Dice Clay: Dice Rules</td>\n",
       "    </tr>\n",
       "  </tbody>\n",
       "</table>\n",
       "<p>9742 rows × 4 columns</p>\n",
       "</div>"
      ],
      "text/plain": [
       "      movieId                                      title  \\\n",
       "0           1                           Toy Story (1995)   \n",
       "1           2                             Jumanji (1995)   \n",
       "2           3                    Grumpier Old Men (1995)   \n",
       "3           4                   Waiting to Exhale (1995)   \n",
       "4           5         Father of the Bride Part II (1995)   \n",
       "...       ...                                        ...   \n",
       "9737   193581  Black Butler: Book of the Atlantic (2017)   \n",
       "9738   193583               No Game No Life: Zero (2017)   \n",
       "9739   193585                               Flint (2017)   \n",
       "9740   193587        Bungo Stray Dogs: Dead Apple (2018)   \n",
       "9741   193609        Andrew Dice Clay: Dice Rules (1991)   \n",
       "\n",
       "                                           genres  \\\n",
       "0     Adventure|Animation|Children|Comedy|Fantasy   \n",
       "1                      Adventure|Children|Fantasy   \n",
       "2                                  Comedy|Romance   \n",
       "3                            Comedy|Drama|Romance   \n",
       "4                                          Comedy   \n",
       "...                                           ...   \n",
       "9737              Action|Animation|Comedy|Fantasy   \n",
       "9738                     Animation|Comedy|Fantasy   \n",
       "9739                                        Drama   \n",
       "9740                             Action|Animation   \n",
       "9741                                       Comedy   \n",
       "\n",
       "                              title_name  \n",
       "0                              Toy Story  \n",
       "1                                Jumanji  \n",
       "2                       Grumpier Old Men  \n",
       "3                      Waiting to Exhale  \n",
       "4            Father of the Bride Part II  \n",
       "...                                  ...  \n",
       "9737  Black Butler: Book of the Atlantic  \n",
       "9738               No Game No Life: Zero  \n",
       "9739                               Flint  \n",
       "9740        Bungo Stray Dogs: Dead Apple  \n",
       "9741        Andrew Dice Clay: Dice Rules  \n",
       "\n",
       "[9742 rows x 4 columns]"
      ]
     },
     "execution_count": 24,
     "metadata": {},
     "output_type": "execute_result"
    }
   ],
   "source": [
    "titles = movies[\"title\"].str.extract(r\"([^\\(]+)\", expand=True).map(str.strip)\n",
    "\n",
    "movies[\"title_name\"] = titles\n",
    "\n",
    "movies"
   ]
  },
  {
   "cell_type": "code",
   "execution_count": 26,
   "id": "6da4b34e",
   "metadata": {},
   "outputs": [
    {
     "data": {
      "text/plain": [
       "array(['Toy Story', 'Jumanji', 'Grumpier Old Men', 'Waiting to Exhale',\n",
       "       'Father of the Bride Part II', 'Heat', 'Sabrina', 'Tom and Huck',\n",
       "       'Sudden Death', 'GoldenEye'], dtype=object)"
      ]
     },
     "execution_count": 26,
     "metadata": {},
     "output_type": "execute_result"
    }
   ],
   "source": [
    "movies[\"title_name\"].iloc[:10].values"
   ]
  },
  {
   "cell_type": "code",
   "execution_count": 31,
   "id": "9a2227c3",
   "metadata": {},
   "outputs": [
    {
     "name": "stdout",
     "output_type": "stream",
     "text": [
      "\n",
      "Dame un framelist json para ponerlo en pandas, con el personaje principal de cada película\n",
      "y si el personaje es humano o ficticio, como:\n",
      "\n",
      "\n",
      "[\n",
      "    {\n",
      "        \"title\": \"Toy Story\"\n",
      "        \"main_actor\": \"Woody\",\n",
      "        \"human\": False\n",
      "    },\n",
      "    ...\n",
      "]\n",
      "\n",
      "\n",
      "---\n",
      "\n",
      "De la siguiente lista:\n",
      "\n",
      "Toy Story\n",
      "Jumanji\n",
      "Grumpier Old Men\n",
      "Waiting to Exhale\n",
      "Father of the Bride Part II\n",
      "Heat\n",
      "Sabrina\n",
      "Tom and Huck\n",
      "Sudden Death\n",
      "GoldenEye\n",
      "\n",
      "---\n",
      "\n",
      "Devuelve únicamente el json con el framelist para ponerlo directo en pandas.DataFrame (sin comentarios ni texto adicional)\n",
      "\n"
     ]
    }
   ],
   "source": [
    "titles_lines = \"\\n\".join(movies[\"title_name\"].iloc[:10].values)\n",
    "\n",
    "json_example = '''\n",
    "[\n",
    "    {\n",
    "        \"title\": \"Toy Story\"\n",
    "        \"main_actor\": \"Woody\",\n",
    "        \"human\": False\n",
    "    },\n",
    "    ...\n",
    "]\n",
    "'''\n",
    "\n",
    "prompt = f'''\n",
    "Dame un framelist json para ponerlo en pandas, con el personaje principal de cada película\n",
    "y si el personaje es humano o ficticio, como:\n",
    "\n",
    "{json_example}\n",
    "\n",
    "---\n",
    "\n",
    "De la siguiente lista:\n",
    "\n",
    "{titles_lines}\n",
    "\n",
    "---\n",
    "\n",
    "Devuelve únicamente el json con el framelist para ponerlo directo en pandas.DataFrame (sin comentarios ni texto adicional)\n",
    "'''\n",
    "\n",
    "print(prompt)"
   ]
  },
  {
   "cell_type": "code",
   "execution_count": 33,
   "id": "e073c8ed",
   "metadata": {},
   "outputs": [
    {
     "name": "stdout",
     "output_type": "stream",
     "text": [
      "[\n",
      "  {\n",
      "    \"title\": \"Toy Story\",\n",
      "    \"main_actor\": \"Woody\",\n",
      "    \"human\": false\n",
      "  },\n",
      "  {\n",
      "    \"title\": \"Jumanji\",\n",
      "    \"main_actor\": \"Alan Parrish\",\n",
      "    \"human\": true\n",
      "  },\n",
      "  {\n",
      "    \"title\": \"Grumpier Old Men\",\n",
      "    \"main_actor\": \"John Gustafson\",\n",
      "    \"human\": true\n",
      "  },\n",
      "  {\n",
      "    \"title\": \"Waiting to Exhale\",\n",
      "    \"main_actor\": \"Savannah Jackson\",\n",
      "    \"human\": true\n",
      "  },\n",
      "  {\n",
      "    \"title\": \"Father of the Bride Part II\",\n",
      "    \"main_actor\": \"George Banks\",\n",
      "    \"human\": true\n",
      "  },\n",
      "  {\n",
      "        \"title\": \"Heat\",\n",
      "        \"main_actor\": \"Neil McCauley\",\n",
      "        \"human\": true\n",
      "  },\n",
      "  {\n",
      "    \"title\": \"Sabrina\",\n",
      "    \"main_actor\": \"Sabrina Fairchild\",\n",
      "    \"human\": true\n",
      "  },\n",
      "  {\n",
      "    \"title\": \"Tom and Huck\",\n",
      "    \"main_actor\": \"Tom Sawyer\",\n",
      "    \"human\": true\n",
      "  },\n",
      "  {\n",
      "    \"title\": \"Sudden Death\",\n",
      "    \"main_actor\": \"Darren McCord\",\n",
      "    \"human\": true\n",
      "  },\n",
      "  {\n",
      "    \"title\": \"GoldenEye\",\n",
      "    \"main_actor\": \"James Bond\",\n",
      "    \"human\": true\n",
      "  }\n",
      "]\n"
     ]
    }
   ],
   "source": [
    "response = client.responses.create(\n",
    "    model=\"gpt-5\",\n",
    "    input=prompt\n",
    ")\n",
    "\n",
    "print(response.output_text)"
   ]
  },
  {
   "cell_type": "code",
   "execution_count": 35,
   "id": "d3a9da2d",
   "metadata": {},
   "outputs": [
    {
     "data": {
      "text/html": [
       "<div>\n",
       "<style scoped>\n",
       "    .dataframe tbody tr th:only-of-type {\n",
       "        vertical-align: middle;\n",
       "    }\n",
       "\n",
       "    .dataframe tbody tr th {\n",
       "        vertical-align: top;\n",
       "    }\n",
       "\n",
       "    .dataframe thead th {\n",
       "        text-align: right;\n",
       "    }\n",
       "</style>\n",
       "<table border=\"1\" class=\"dataframe\">\n",
       "  <thead>\n",
       "    <tr style=\"text-align: right;\">\n",
       "      <th></th>\n",
       "      <th>title</th>\n",
       "      <th>main_actor</th>\n",
       "      <th>human</th>\n",
       "    </tr>\n",
       "  </thead>\n",
       "  <tbody>\n",
       "    <tr>\n",
       "      <th>0</th>\n",
       "      <td>Toy Story</td>\n",
       "      <td>Woody</td>\n",
       "      <td>False</td>\n",
       "    </tr>\n",
       "    <tr>\n",
       "      <th>1</th>\n",
       "      <td>Jumanji</td>\n",
       "      <td>Alan Parrish</td>\n",
       "      <td>True</td>\n",
       "    </tr>\n",
       "    <tr>\n",
       "      <th>2</th>\n",
       "      <td>Grumpier Old Men</td>\n",
       "      <td>John Gustafson</td>\n",
       "      <td>True</td>\n",
       "    </tr>\n",
       "    <tr>\n",
       "      <th>3</th>\n",
       "      <td>Waiting to Exhale</td>\n",
       "      <td>Savannah Jackson</td>\n",
       "      <td>True</td>\n",
       "    </tr>\n",
       "    <tr>\n",
       "      <th>4</th>\n",
       "      <td>Father of the Bride Part II</td>\n",
       "      <td>George Banks</td>\n",
       "      <td>True</td>\n",
       "    </tr>\n",
       "    <tr>\n",
       "      <th>5</th>\n",
       "      <td>Heat</td>\n",
       "      <td>Neil McCauley</td>\n",
       "      <td>True</td>\n",
       "    </tr>\n",
       "    <tr>\n",
       "      <th>6</th>\n",
       "      <td>Sabrina</td>\n",
       "      <td>Sabrina Fairchild</td>\n",
       "      <td>True</td>\n",
       "    </tr>\n",
       "    <tr>\n",
       "      <th>7</th>\n",
       "      <td>Tom and Huck</td>\n",
       "      <td>Tom Sawyer</td>\n",
       "      <td>True</td>\n",
       "    </tr>\n",
       "    <tr>\n",
       "      <th>8</th>\n",
       "      <td>Sudden Death</td>\n",
       "      <td>Darren McCord</td>\n",
       "      <td>True</td>\n",
       "    </tr>\n",
       "    <tr>\n",
       "      <th>9</th>\n",
       "      <td>GoldenEye</td>\n",
       "      <td>James Bond</td>\n",
       "      <td>True</td>\n",
       "    </tr>\n",
       "  </tbody>\n",
       "</table>\n",
       "</div>"
      ],
      "text/plain": [
       "                         title         main_actor  human\n",
       "0                    Toy Story              Woody  False\n",
       "1                      Jumanji       Alan Parrish   True\n",
       "2             Grumpier Old Men     John Gustafson   True\n",
       "3            Waiting to Exhale   Savannah Jackson   True\n",
       "4  Father of the Bride Part II       George Banks   True\n",
       "5                         Heat      Neil McCauley   True\n",
       "6                      Sabrina  Sabrina Fairchild   True\n",
       "7                 Tom and Huck         Tom Sawyer   True\n",
       "8                 Sudden Death      Darren McCord   True\n",
       "9                    GoldenEye         James Bond   True"
      ]
     },
     "execution_count": 35,
     "metadata": {},
     "output_type": "execute_result"
    }
   ],
   "source": [
    "report = pandas.DataFrame(json.loads(response.output_text))\n",
    "report"
   ]
  },
  {
   "cell_type": "code",
   "execution_count": null,
   "id": "bd42a209",
   "metadata": {},
   "outputs": [],
   "source": [
    "report.to_csv(\"movies_actors_lote1.csv\", index=False)"
   ]
  }
 ],
 "metadata": {
  "kernelspec": {
   "display_name": "3.10.15",
   "language": "python",
   "name": "python3"
  },
  "language_info": {
   "codemirror_mode": {
    "name": "ipython",
    "version": 3
   },
   "file_extension": ".py",
   "mimetype": "text/x-python",
   "name": "python",
   "nbconvert_exporter": "python",
   "pygments_lexer": "ipython3",
   "version": "3.10.15"
  }
 },
 "nbformat": 4,
 "nbformat_minor": 5
}
