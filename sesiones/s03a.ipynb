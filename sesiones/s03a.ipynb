{
 "cells": [
  {
   "cell_type": "code",
   "execution_count": 2,
   "id": "a7ce9da2",
   "metadata": {},
   "outputs": [
    {
     "name": "stdout",
     "output_type": "stream",
     "text": [
      "\n",
      "I drink and I know things.\n",
      "When you play the game of thrones, your win or you die.\n",
      "The true enemy won't wait out the storm, He brings the storm.\n",
      "\n"
     ]
    }
   ],
   "source": [
    "corpus = \"\"\"\n",
    "I drink and I know things.\n",
    "When you play the game of thrones, your win or you die.\n",
    "The true enemy won't wait out the storm, He brings the storm.\n",
    "\"\"\"\n",
    "\n",
    "print(corpus)"
   ]
  },
  {
   "cell_type": "code",
   "execution_count": 30,
   "id": "d163194b",
   "metadata": {},
   "outputs": [
    {
     "data": {
      "text/plain": [
       "'dia nino alvaro'"
      ]
     },
     "execution_count": 30,
     "metadata": {},
     "output_type": "execute_result"
    }
   ],
   "source": [
    "import unicodedata\n",
    "\n",
    "text = \"\"\n",
    "for c in unicodedata.normalize(\"NFD\", \"Día NIÑO Álvaro\").lower():\n",
    "    # print(unicodedata.category(c))\n",
    "    if unicodedata.category(c) != \"Mn\":\n",
    "        text += c\n",
    "text"
   ]
  },
  {
   "cell_type": "code",
   "execution_count": null,
   "id": "dfbfd7ca",
   "metadata": {},
   "outputs": [
    {
     "data": {
      "text/plain": [
       "{'I': 2,\n",
       " 'drink': 1,\n",
       " 'and': 1,\n",
       " 'know': 1,\n",
       " 'things': 1,\n",
       " 'When': 1,\n",
       " 'you': 2,\n",
       " 'play': 1,\n",
       " 'the': 3,\n",
       " 'game': 1,\n",
       " 'of': 1,\n",
       " 'thrones': 1,\n",
       " 'your': 1,\n",
       " 'win': 1,\n",
       " 'or': 1,\n",
       " 'die': 1,\n",
       " 'The': 1,\n",
       " 'true': 1,\n",
       " 'enemy': 1,\n",
       " \"won't\": 1,\n",
       " 'wait': 1,\n",
       " 'out': 1,\n",
       " 'storm': 2,\n",
       " 'He': 1,\n",
       " 'brings': 1}"
      ]
     },
     "execution_count": 23,
     "metadata": {},
     "output_type": "execute_result"
    }
   ],
   "source": [
    "import re\n",
    "\n",
    "vocab = {}\n",
    "\n",
    "for token in re.sub(r\"\\s+\", \" \", re.sub(r\"[.,\\n]\", \" \", corpus)).strip().split(\" \"):\n",
    "    if token in vocab:\n",
    "        vocab[token] += 1\n",
    "    else:\n",
    "        vocab[token] = 1\n",
    "\n",
    "vocab"
   ]
  },
  {
   "cell_type": "code",
   "execution_count": 24,
   "id": "c09cc96e",
   "metadata": {},
   "outputs": [
    {
     "data": {
      "text/plain": [
       "['I',\n",
       " 'drink',\n",
       " 'and',\n",
       " 'know',\n",
       " 'things',\n",
       " 'When',\n",
       " 'you',\n",
       " 'play',\n",
       " 'the',\n",
       " 'game',\n",
       " 'of',\n",
       " 'thrones',\n",
       " 'your',\n",
       " 'win',\n",
       " 'or',\n",
       " 'die',\n",
       " 'The',\n",
       " 'true',\n",
       " 'enemy',\n",
       " \"won't\",\n",
       " 'wait',\n",
       " 'out',\n",
       " 'storm',\n",
       " 'He',\n",
       " 'brings']"
      ]
     },
     "execution_count": 24,
     "metadata": {},
     "output_type": "execute_result"
    }
   ],
   "source": [
    "import re\n",
    "\n",
    "vocab = []\n",
    "\n",
    "for token in re.sub(r\"\\s+\", \" \", re.sub(r\"[.,\\n]\", \" \", corpus)).strip().split(\" \"):\n",
    "    if not token in vocab:\n",
    "        vocab.append(token)\n",
    "\n",
    "vocab"
   ]
  },
  {
   "cell_type": "code",
   "execution_count": 45,
   "id": "0c25a468",
   "metadata": {},
   "outputs": [
    {
     "data": {
      "text/html": [
       "<div>\n",
       "<style scoped>\n",
       "    .dataframe tbody tr th:only-of-type {\n",
       "        vertical-align: middle;\n",
       "    }\n",
       "\n",
       "    .dataframe tbody tr th {\n",
       "        vertical-align: top;\n",
       "    }\n",
       "\n",
       "    .dataframe thead th {\n",
       "        text-align: right;\n",
       "    }\n",
       "</style>\n",
       "<table border=\"1\" class=\"dataframe\">\n",
       "  <thead>\n",
       "    <tr style=\"text-align: right;\">\n",
       "      <th></th>\n",
       "      <th>1</th>\n",
       "      <th>2</th>\n",
       "      <th>3</th>\n",
       "      <th>4</th>\n",
       "      <th>5</th>\n",
       "      <th>6</th>\n",
       "      <th>7</th>\n",
       "      <th>8</th>\n",
       "      <th>9</th>\n",
       "      <th>10</th>\n",
       "      <th>...</th>\n",
       "      <th>16</th>\n",
       "      <th>17</th>\n",
       "      <th>18</th>\n",
       "      <th>19</th>\n",
       "      <th>20</th>\n",
       "      <th>21</th>\n",
       "      <th>22</th>\n",
       "      <th>23</th>\n",
       "      <th>24</th>\n",
       "      <th>25</th>\n",
       "    </tr>\n",
       "  </thead>\n",
       "  <tbody>\n",
       "    <tr>\n",
       "      <th>Token</th>\n",
       "      <td>I</td>\n",
       "      <td>drink</td>\n",
       "      <td>and</td>\n",
       "      <td>know</td>\n",
       "      <td>things</td>\n",
       "      <td>When</td>\n",
       "      <td>you</td>\n",
       "      <td>play</td>\n",
       "      <td>the</td>\n",
       "      <td>game</td>\n",
       "      <td>...</td>\n",
       "      <td>die</td>\n",
       "      <td>The</td>\n",
       "      <td>true</td>\n",
       "      <td>enemy</td>\n",
       "      <td>won't</td>\n",
       "      <td>wait</td>\n",
       "      <td>out</td>\n",
       "      <td>storm</td>\n",
       "      <td>He</td>\n",
       "      <td>brings</td>\n",
       "    </tr>\n",
       "  </tbody>\n",
       "</table>\n",
       "<p>1 rows × 25 columns</p>\n",
       "</div>"
      ],
      "text/plain": [
       "      1      2    3     4       5     6    7     8    9     10  ...   16   17  \\\n",
       "Token  I  drink  and  know  things  When  you  play  the  game  ...  die  The   \n",
       "\n",
       "         18     19     20    21   22     23  24      25  \n",
       "Token  true  enemy  won't  wait  out  storm  He  brings  \n",
       "\n",
       "[1 rows x 25 columns]"
      ]
     },
     "execution_count": 45,
     "metadata": {},
     "output_type": "execute_result"
    }
   ],
   "source": [
    "import pandas\n",
    "import numpy\n",
    "\n",
    "report1 = pandas.DataFrame(vocab, columns=[\"Token\"])\n",
    "report1.index = numpy.array(report1.index) + 1\n",
    "report1.T"
   ]
  },
  {
   "cell_type": "code",
   "execution_count": 53,
   "id": "e23b43f9",
   "metadata": {},
   "outputs": [],
   "source": [
    "def text2tokens(text):\n",
    "    return re.sub(r\"\\s+\", \" \", re.sub(r\"[.,\\n]\", \" \", text)).strip().split(\" \")"
   ]
  },
  {
   "cell_type": "code",
   "execution_count": 59,
   "id": "92ad7cd5",
   "metadata": {},
   "outputs": [],
   "source": [
    "def tokens2vec(tokens):\n",
    "    return [vocab.index(token) for token in tokens]"
   ]
  },
  {
   "cell_type": "code",
   "execution_count": 122,
   "id": "5cb55fb2",
   "metadata": {},
   "outputs": [
    {
     "data": {
      "text/plain": [
       "[5, 6, 7, 9, 10, 11, 3]"
      ]
     },
     "execution_count": 122,
     "metadata": {},
     "output_type": "execute_result"
    }
   ],
   "source": [
    "text = \"When you play game of thrones know\"\n",
    "inputs_tokens = text2tokens(text)\n",
    "inputs = tokens2vec(inputs_tokens)\n",
    "inputs"
   ]
  },
  {
   "cell_type": "code",
   "execution_count": 123,
   "id": "075f5191",
   "metadata": {},
   "outputs": [
    {
     "data": {
      "text/plain": [
       "array([[0.7 , 0.29, 0.23, 0.55, 0.72, 0.42, 0.98],\n",
       "       [0.68, 0.48, 0.39, 0.34, 0.73, 0.44, 0.06],\n",
       "       [0.4 , 0.74, 0.18, 0.18, 0.53, 0.53, 0.63],\n",
       "       [0.85, 0.72, 0.61, 0.72, 0.32, 0.36, 0.23],\n",
       "       [0.29, 0.63, 0.09, 0.43, 0.43, 0.49, 0.43],\n",
       "       [0.31, 0.43, 0.89, 0.94, 0.5 , 0.62, 0.12]])"
      ]
     },
     "execution_count": 123,
     "metadata": {},
     "output_type": "execute_result"
    }
   ],
   "source": [
    "numpy.random.seed(123)\n",
    "embedding = numpy.random.rand(6, len(inputs))\n",
    "embedding.round(2)"
   ]
  },
  {
   "cell_type": "code",
   "execution_count": 124,
   "id": "e6a466a9",
   "metadata": {},
   "outputs": [
    {
     "data": {
      "text/html": [
       "<div>\n",
       "<style scoped>\n",
       "    .dataframe tbody tr th:only-of-type {\n",
       "        vertical-align: middle;\n",
       "    }\n",
       "\n",
       "    .dataframe tbody tr th {\n",
       "        vertical-align: top;\n",
       "    }\n",
       "\n",
       "    .dataframe thead th {\n",
       "        text-align: right;\n",
       "    }\n",
       "</style>\n",
       "<table border=\"1\" class=\"dataframe\">\n",
       "  <thead>\n",
       "    <tr style=\"text-align: right;\">\n",
       "      <th></th>\n",
       "      <th>0</th>\n",
       "      <th>1</th>\n",
       "      <th>2</th>\n",
       "      <th>3</th>\n",
       "      <th>4</th>\n",
       "      <th>5</th>\n",
       "      <th>6</th>\n",
       "    </tr>\n",
       "  </thead>\n",
       "  <tbody>\n",
       "    <tr>\n",
       "      <th>0</th>\n",
       "      <td>When</td>\n",
       "      <td>you</td>\n",
       "      <td>play</td>\n",
       "      <td>game</td>\n",
       "      <td>of</td>\n",
       "      <td>thrones</td>\n",
       "      <td>know</td>\n",
       "    </tr>\n",
       "    <tr>\n",
       "      <th>1</th>\n",
       "      <td>5</td>\n",
       "      <td>6</td>\n",
       "      <td>7</td>\n",
       "      <td>9</td>\n",
       "      <td>10</td>\n",
       "      <td>11</td>\n",
       "      <td>3</td>\n",
       "    </tr>\n",
       "  </tbody>\n",
       "</table>\n",
       "</div>"
      ],
      "text/plain": [
       "      0    1     2     3   4        5     6\n",
       "0  When  you  play  game  of  thrones  know\n",
       "1     5    6     7     9  10       11     3"
      ]
     },
     "execution_count": 124,
     "metadata": {},
     "output_type": "execute_result"
    }
   ],
   "source": [
    "pandas.DataFrame([inputs_tokens, inputs])"
   ]
  },
  {
   "cell_type": "code",
   "execution_count": 125,
   "id": "aa1de094",
   "metadata": {},
   "outputs": [
    {
     "data": {
      "text/html": [
       "<div>\n",
       "<style scoped>\n",
       "    .dataframe tbody tr th:only-of-type {\n",
       "        vertical-align: middle;\n",
       "    }\n",
       "\n",
       "    .dataframe tbody tr th {\n",
       "        vertical-align: top;\n",
       "    }\n",
       "\n",
       "    .dataframe thead th {\n",
       "        text-align: right;\n",
       "    }\n",
       "</style>\n",
       "<table border=\"1\" class=\"dataframe\">\n",
       "  <thead>\n",
       "    <tr style=\"text-align: right;\">\n",
       "      <th></th>\n",
       "      <th>e1</th>\n",
       "      <th>e2</th>\n",
       "      <th>e3</th>\n",
       "      <th>e4</th>\n",
       "      <th>e5</th>\n",
       "      <th>e6</th>\n",
       "      <th>e7</th>\n",
       "    </tr>\n",
       "  </thead>\n",
       "  <tbody>\n",
       "    <tr>\n",
       "      <th>0</th>\n",
       "      <td>0.696469</td>\n",
       "      <td>0.286139</td>\n",
       "      <td>0.226851</td>\n",
       "      <td>0.551315</td>\n",
       "      <td>0.719469</td>\n",
       "      <td>0.423106</td>\n",
       "      <td>0.980764</td>\n",
       "    </tr>\n",
       "    <tr>\n",
       "      <th>1</th>\n",
       "      <td>0.684830</td>\n",
       "      <td>0.480932</td>\n",
       "      <td>0.392118</td>\n",
       "      <td>0.343178</td>\n",
       "      <td>0.729050</td>\n",
       "      <td>0.438572</td>\n",
       "      <td>0.059678</td>\n",
       "    </tr>\n",
       "    <tr>\n",
       "      <th>2</th>\n",
       "      <td>0.398044</td>\n",
       "      <td>0.737995</td>\n",
       "      <td>0.182492</td>\n",
       "      <td>0.175452</td>\n",
       "      <td>0.531551</td>\n",
       "      <td>0.531828</td>\n",
       "      <td>0.634401</td>\n",
       "    </tr>\n",
       "    <tr>\n",
       "      <th>3</th>\n",
       "      <td>0.849432</td>\n",
       "      <td>0.724455</td>\n",
       "      <td>0.611024</td>\n",
       "      <td>0.722443</td>\n",
       "      <td>0.322959</td>\n",
       "      <td>0.361789</td>\n",
       "      <td>0.228263</td>\n",
       "    </tr>\n",
       "    <tr>\n",
       "      <th>4</th>\n",
       "      <td>0.293714</td>\n",
       "      <td>0.630976</td>\n",
       "      <td>0.092105</td>\n",
       "      <td>0.433701</td>\n",
       "      <td>0.430863</td>\n",
       "      <td>0.493685</td>\n",
       "      <td>0.425830</td>\n",
       "    </tr>\n",
       "    <tr>\n",
       "      <th>5</th>\n",
       "      <td>0.312261</td>\n",
       "      <td>0.426351</td>\n",
       "      <td>0.893389</td>\n",
       "      <td>0.944160</td>\n",
       "      <td>0.501837</td>\n",
       "      <td>0.623953</td>\n",
       "      <td>0.115618</td>\n",
       "    </tr>\n",
       "  </tbody>\n",
       "</table>\n",
       "</div>"
      ],
      "text/plain": [
       "         e1        e2        e3        e4        e5        e6        e7\n",
       "0  0.696469  0.286139  0.226851  0.551315  0.719469  0.423106  0.980764\n",
       "1  0.684830  0.480932  0.392118  0.343178  0.729050  0.438572  0.059678\n",
       "2  0.398044  0.737995  0.182492  0.175452  0.531551  0.531828  0.634401\n",
       "3  0.849432  0.724455  0.611024  0.722443  0.322959  0.361789  0.228263\n",
       "4  0.293714  0.630976  0.092105  0.433701  0.430863  0.493685  0.425830\n",
       "5  0.312261  0.426351  0.893389  0.944160  0.501837  0.623953  0.115618"
      ]
     },
     "execution_count": 125,
     "metadata": {},
     "output_type": "execute_result"
    }
   ],
   "source": [
    "pandas.DataFrame(embedding, columns=[f\"e{i + 1}\" for i in range(len(inputs))])"
   ]
  },
  {
   "cell_type": "code",
   "execution_count": 128,
   "id": "bce3402a",
   "metadata": {},
   "outputs": [
    {
     "data": {
      "text/plain": [
       "array([[ 0.  ,  0.84,  0.91,  0.14, -0.76, -0.96, -0.28],\n",
       "       [ 1.  ,  1.  ,  1.  ,  0.99,  0.98,  0.97,  0.96],\n",
       "       [ 0.  ,  0.  ,  0.  ,  0.01,  0.01,  0.01,  0.01],\n",
       "       [ 1.  ,  1.  ,  1.  ,  1.  ,  1.  ,  1.  ,  1.  ],\n",
       "       [ 0.  ,  0.  ,  0.  ,  0.  ,  0.  ,  0.  ,  0.  ],\n",
       "       [ 1.  ,  1.  ,  1.  ,  1.  ,  1.  ,  1.  ,  1.  ]])"
      ]
     },
     "execution_count": 128,
     "metadata": {},
     "output_type": "execute_result"
    }
   ],
   "source": [
    "positional = numpy.zeros_like(embedding)\n",
    "\n",
    "dim = 6\n",
    "n = len(inputs)\n",
    "\n",
    "for pos in range(n):\n",
    "    for i in range(dim):\n",
    "        if i % 2 == 0: # even\n",
    "            # print(i, pos, numpy.sin(pos / (10_000 ** ((2 * i) / dim))))\n",
    "            positional[i, pos] = numpy.sin(pos / (10_000 ** ((2 * i) / dim)))\n",
    "        else: # odd\n",
    "            # print(i, pos, numpy.cos(pos / (10_000 ** ((2 * i) / dim))))\n",
    "            positional[i, pos] = numpy.cos(pos / (10_000 ** ((2 * i) / dim)))\n",
    "\n",
    "positional.round(2)"
   ]
  },
  {
   "cell_type": "code",
   "execution_count": 129,
   "id": "45bc50e3",
   "metadata": {},
   "outputs": [
    {
     "data": {
      "text/html": [
       "<div>\n",
       "<style scoped>\n",
       "    .dataframe tbody tr th:only-of-type {\n",
       "        vertical-align: middle;\n",
       "    }\n",
       "\n",
       "    .dataframe tbody tr th {\n",
       "        vertical-align: top;\n",
       "    }\n",
       "\n",
       "    .dataframe thead th {\n",
       "        text-align: right;\n",
       "    }\n",
       "</style>\n",
       "<table border=\"1\" class=\"dataframe\">\n",
       "  <thead>\n",
       "    <tr style=\"text-align: right;\">\n",
       "      <th></th>\n",
       "      <th>p1</th>\n",
       "      <th>p2</th>\n",
       "      <th>p3</th>\n",
       "      <th>p4</th>\n",
       "      <th>p5</th>\n",
       "      <th>p6</th>\n",
       "      <th>p7</th>\n",
       "    </tr>\n",
       "  </thead>\n",
       "  <tbody>\n",
       "    <tr>\n",
       "      <th>0</th>\n",
       "      <td>0.0</td>\n",
       "      <td>0.841471</td>\n",
       "      <td>0.909297</td>\n",
       "      <td>0.141120</td>\n",
       "      <td>-0.756802</td>\n",
       "      <td>-0.958924</td>\n",
       "      <td>-0.279415</td>\n",
       "    </tr>\n",
       "    <tr>\n",
       "      <th>1</th>\n",
       "      <td>1.0</td>\n",
       "      <td>0.998923</td>\n",
       "      <td>0.995694</td>\n",
       "      <td>0.990321</td>\n",
       "      <td>0.982814</td>\n",
       "      <td>0.973190</td>\n",
       "      <td>0.961470</td>\n",
       "    </tr>\n",
       "    <tr>\n",
       "      <th>2</th>\n",
       "      <td>0.0</td>\n",
       "      <td>0.002154</td>\n",
       "      <td>0.004309</td>\n",
       "      <td>0.006463</td>\n",
       "      <td>0.008618</td>\n",
       "      <td>0.010772</td>\n",
       "      <td>0.012926</td>\n",
       "    </tr>\n",
       "    <tr>\n",
       "      <th>3</th>\n",
       "      <td>1.0</td>\n",
       "      <td>1.000000</td>\n",
       "      <td>1.000000</td>\n",
       "      <td>1.000000</td>\n",
       "      <td>1.000000</td>\n",
       "      <td>1.000000</td>\n",
       "      <td>1.000000</td>\n",
       "    </tr>\n",
       "    <tr>\n",
       "      <th>4</th>\n",
       "      <td>0.0</td>\n",
       "      <td>0.000005</td>\n",
       "      <td>0.000009</td>\n",
       "      <td>0.000014</td>\n",
       "      <td>0.000019</td>\n",
       "      <td>0.000023</td>\n",
       "      <td>0.000028</td>\n",
       "    </tr>\n",
       "    <tr>\n",
       "      <th>5</th>\n",
       "      <td>1.0</td>\n",
       "      <td>1.000000</td>\n",
       "      <td>1.000000</td>\n",
       "      <td>1.000000</td>\n",
       "      <td>1.000000</td>\n",
       "      <td>1.000000</td>\n",
       "      <td>1.000000</td>\n",
       "    </tr>\n",
       "  </tbody>\n",
       "</table>\n",
       "</div>"
      ],
      "text/plain": [
       "    p1        p2        p3        p4        p5        p6        p7\n",
       "0  0.0  0.841471  0.909297  0.141120 -0.756802 -0.958924 -0.279415\n",
       "1  1.0  0.998923  0.995694  0.990321  0.982814  0.973190  0.961470\n",
       "2  0.0  0.002154  0.004309  0.006463  0.008618  0.010772  0.012926\n",
       "3  1.0  1.000000  1.000000  1.000000  1.000000  1.000000  1.000000\n",
       "4  0.0  0.000005  0.000009  0.000014  0.000019  0.000023  0.000028\n",
       "5  1.0  1.000000  1.000000  1.000000  1.000000  1.000000  1.000000"
      ]
     },
     "execution_count": 129,
     "metadata": {},
     "output_type": "execute_result"
    }
   ],
   "source": [
    "pandas.DataFrame(positional, columns=[f\"p{i + 1}\" for i in range(len(inputs))])"
   ]
  },
  {
   "cell_type": "code",
   "execution_count": 131,
   "id": "62ff69ed",
   "metadata": {},
   "outputs": [
    {
     "data": {
      "text/html": [
       "<div>\n",
       "<style scoped>\n",
       "    .dataframe tbody tr th:only-of-type {\n",
       "        vertical-align: middle;\n",
       "    }\n",
       "\n",
       "    .dataframe tbody tr th {\n",
       "        vertical-align: top;\n",
       "    }\n",
       "\n",
       "    .dataframe thead th {\n",
       "        text-align: right;\n",
       "    }\n",
       "</style>\n",
       "<table border=\"1\" class=\"dataframe\">\n",
       "  <thead>\n",
       "    <tr style=\"text-align: right;\">\n",
       "      <th></th>\n",
       "      <th>ep1</th>\n",
       "      <th>ep2</th>\n",
       "      <th>ep3</th>\n",
       "      <th>ep4</th>\n",
       "      <th>ep5</th>\n",
       "      <th>ep6</th>\n",
       "      <th>ep7</th>\n",
       "    </tr>\n",
       "  </thead>\n",
       "  <tbody>\n",
       "    <tr>\n",
       "      <th>0</th>\n",
       "      <td>0.696469</td>\n",
       "      <td>1.127610</td>\n",
       "      <td>1.136149</td>\n",
       "      <td>0.692435</td>\n",
       "      <td>-0.037334</td>\n",
       "      <td>-0.535818</td>\n",
       "      <td>0.701349</td>\n",
       "    </tr>\n",
       "    <tr>\n",
       "      <th>1</th>\n",
       "      <td>1.684830</td>\n",
       "      <td>1.479855</td>\n",
       "      <td>1.387812</td>\n",
       "      <td>1.333499</td>\n",
       "      <td>1.711864</td>\n",
       "      <td>1.411762</td>\n",
       "      <td>1.021148</td>\n",
       "    </tr>\n",
       "    <tr>\n",
       "      <th>2</th>\n",
       "      <td>0.398044</td>\n",
       "      <td>0.740150</td>\n",
       "      <td>0.186801</td>\n",
       "      <td>0.181915</td>\n",
       "      <td>0.540169</td>\n",
       "      <td>0.542600</td>\n",
       "      <td>0.647327</td>\n",
       "    </tr>\n",
       "    <tr>\n",
       "      <th>3</th>\n",
       "      <td>1.849432</td>\n",
       "      <td>1.724455</td>\n",
       "      <td>1.611023</td>\n",
       "      <td>1.722443</td>\n",
       "      <td>1.322959</td>\n",
       "      <td>1.361789</td>\n",
       "      <td>1.228263</td>\n",
       "    </tr>\n",
       "    <tr>\n",
       "      <th>4</th>\n",
       "      <td>0.293714</td>\n",
       "      <td>0.630981</td>\n",
       "      <td>0.092114</td>\n",
       "      <td>0.433715</td>\n",
       "      <td>0.430881</td>\n",
       "      <td>0.493708</td>\n",
       "      <td>0.425858</td>\n",
       "    </tr>\n",
       "    <tr>\n",
       "      <th>5</th>\n",
       "      <td>1.312261</td>\n",
       "      <td>1.426351</td>\n",
       "      <td>1.893389</td>\n",
       "      <td>1.944160</td>\n",
       "      <td>1.501837</td>\n",
       "      <td>1.623953</td>\n",
       "      <td>1.115618</td>\n",
       "    </tr>\n",
       "  </tbody>\n",
       "</table>\n",
       "</div>"
      ],
      "text/plain": [
       "        ep1       ep2       ep3       ep4       ep5       ep6       ep7\n",
       "0  0.696469  1.127610  1.136149  0.692435 -0.037334 -0.535818  0.701349\n",
       "1  1.684830  1.479855  1.387812  1.333499  1.711864  1.411762  1.021148\n",
       "2  0.398044  0.740150  0.186801  0.181915  0.540169  0.542600  0.647327\n",
       "3  1.849432  1.724455  1.611023  1.722443  1.322959  1.361789  1.228263\n",
       "4  0.293714  0.630981  0.092114  0.433715  0.430881  0.493708  0.425858\n",
       "5  1.312261  1.426351  1.893389  1.944160  1.501837  1.623953  1.115618"
      ]
     },
     "execution_count": 131,
     "metadata": {},
     "output_type": "execute_result"
    }
   ],
   "source": [
    "embedding_positional = embedding + positional\n",
    "\n",
    "pandas.DataFrame(embedding_positional, columns=[f\"ep{i + 1}\" for i in range(len(inputs))])"
   ]
  }
 ],
 "metadata": {
  "kernelspec": {
   "display_name": "3.10.15",
   "language": "python",
   "name": "python3"
  },
  "language_info": {
   "codemirror_mode": {
    "name": "ipython",
    "version": 3
   },
   "file_extension": ".py",
   "mimetype": "text/x-python",
   "name": "python",
   "nbconvert_exporter": "python",
   "pygments_lexer": "ipython3",
   "version": "3.10.15"
  }
 },
 "nbformat": 4,
 "nbformat_minor": 5
}
