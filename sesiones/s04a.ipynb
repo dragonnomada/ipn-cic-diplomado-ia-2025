{
 "cells": [
  {
   "cell_type": "code",
   "execution_count": 9,
   "id": "90112feb",
   "metadata": {},
   "outputs": [],
   "source": [
    "import numpy"
   ]
  },
  {
   "cell_type": "markdown",
   "id": "f0804fa7",
   "metadata": {},
   "source": [
    "$$\n",
    "x + 3y = 5 \\\\\n",
    "2x + 4y = 8\n",
    "$$"
   ]
  },
  {
   "cell_type": "code",
   "execution_count": 10,
   "id": "956cca4a",
   "metadata": {},
   "outputs": [
    {
     "data": {
      "text/plain": [
       "(array([[1, 3],\n",
       "        [2, 4]]),\n",
       " array([5, 8]))"
      ]
     },
     "execution_count": 10,
     "metadata": {},
     "output_type": "execute_result"
    }
   ],
   "source": [
    "A = numpy.array([\n",
    "    [1, 3],\n",
    "    [2, 4]\n",
    "])\n",
    "\n",
    "b = numpy.array([\n",
    "    5,\n",
    "    8\n",
    "])\n",
    "\n",
    "A, b"
   ]
  },
  {
   "cell_type": "markdown",
   "id": "131be0bc",
   "metadata": {},
   "source": [
    "$$\n",
    "u = (x, y) = A^{-1} b\n",
    "$$"
   ]
  },
  {
   "cell_type": "code",
   "execution_count": 11,
   "id": "34638f59",
   "metadata": {},
   "outputs": [
    {
     "data": {
      "text/plain": [
       "array([2., 1.])"
      ]
     },
     "execution_count": 11,
     "metadata": {},
     "output_type": "execute_result"
    }
   ],
   "source": [
    "# A u = b\n",
    "# u = A' b\n",
    "u = numpy.linalg.inv(A).dot(b)\n",
    "u"
   ]
  },
  {
   "cell_type": "markdown",
   "id": "7ff37681",
   "metadata": {},
   "source": [
    "Problema inverso"
   ]
  },
  {
   "cell_type": "code",
   "execution_count": 17,
   "id": "35eb077d",
   "metadata": {},
   "outputs": [
    {
     "data": {
      "text/plain": [
       "(array([2., 1.]), array([5, 8]))"
      ]
     },
     "execution_count": 17,
     "metadata": {},
     "output_type": "execute_result"
    }
   ],
   "source": [
    "u, b"
   ]
  },
  {
   "cell_type": "code",
   "execution_count": 20,
   "id": "6608450a",
   "metadata": {},
   "outputs": [],
   "source": [
    "M = numpy.array([\n",
    "    [1, 3],\n",
    "    [2, 4]\n",
    "])"
   ]
  },
  {
   "cell_type": "code",
   "execution_count": null,
   "id": "4c26ea3d",
   "metadata": {},
   "outputs": [
    {
     "data": {
      "text/plain": [
       "array([5., 8.])"
      ]
     },
     "execution_count": 21,
     "metadata": {},
     "output_type": "execute_result"
    }
   ],
   "source": [
    "M.dot(u) # b = M u"
   ]
  },
  {
   "cell_type": "code",
   "execution_count": null,
   "id": "a56da315",
   "metadata": {},
   "outputs": [
    {
     "data": {
      "text/plain": [
       "array([2., 1.])"
      ]
     },
     "execution_count": 22,
     "metadata": {},
     "output_type": "execute_result"
    }
   ],
   "source": [
    "numpy.linalg.inv(M).dot(b) # u = M' b"
   ]
  },
  {
   "cell_type": "code",
   "execution_count": null,
   "id": "c96830f6",
   "metadata": {},
   "outputs": [
    {
     "data": {
      "text/plain": [
       "array([[1.71675542, 2.64634502],\n",
       "       [1.20193578, 3.27225275]])"
      ]
     },
     "execution_count": 47,
     "metadata": {},
     "output_type": "execute_result"
    }
   ],
   "source": [
    "M = numpy.random.rand(2, 2)\n",
    "\n",
    "b1 = numpy.random.uniform(-1, 2)\n",
    "b2 = numpy.random.uniform(2, 4)\n",
    "b3 = numpy.random.uniform(1, 3)\n",
    "b4 = numpy.random.uniform(3, 5)\n",
    "\n",
    "M[0, 0] = b1\n",
    "M[0, 1] = b2\n",
    "M[1, 0] = b3\n",
    "M[1, 1] = b4\n",
    "\n",
    "M"
   ]
  },
  {
   "cell_type": "code",
   "execution_count": 48,
   "id": "1bc485a9",
   "metadata": {},
   "outputs": [
    {
     "data": {
      "text/plain": [
       "6.566486914222762"
      ]
     },
     "execution_count": 48,
     "metadata": {},
     "output_type": "execute_result"
    }
   ],
   "source": [
    "((M.dot(u) - b) ** 2).sum()"
   ]
  },
  {
   "cell_type": "code",
   "execution_count": 49,
   "id": "c2854db7",
   "metadata": {},
   "outputs": [],
   "source": [
    "def loss(M, u, b):\n",
    "    return ((M.dot(u) - b) ** 2).sum()"
   ]
  },
  {
   "cell_type": "code",
   "execution_count": 50,
   "id": "b9a1a4ed",
   "metadata": {},
   "outputs": [
    {
     "data": {
      "text/plain": [
       "6.566486914222762"
      ]
     },
     "execution_count": 50,
     "metadata": {},
     "output_type": "execute_result"
    }
   ],
   "source": [
    "loss(M, u, b)"
   ]
  },
  {
   "cell_type": "code",
   "execution_count": 59,
   "id": "c4d1b686",
   "metadata": {},
   "outputs": [],
   "source": [
    "def optimizer_naive_step(b1, b2, b3, b4, loss, u, b):\n",
    "    b1p = numpy.random.normal(b1, 1)\n",
    "    b2p = numpy.random.normal(b2, 1)\n",
    "    b3p = numpy.random.normal(b3, 1)\n",
    "    b4p = numpy.random.normal(b4, 1)\n",
    "\n",
    "    M = numpy.array([\n",
    "        [b1, b2],\n",
    "        [b3, b4],\n",
    "    ])\n",
    "    Mp = numpy.array([\n",
    "        [b1p, b2p],\n",
    "        [b3p, b4p],\n",
    "    ])\n",
    "\n",
    "    if loss(M, u, b) < loss(Mp, u, b):\n",
    "        return b1, b2, b3, b4, loss(M, u, b)\n",
    "    else:\n",
    "        return b1p, b2p, b3p, b4p, loss(Mp, u, b)"
   ]
  },
  {
   "cell_type": "code",
   "execution_count": 56,
   "id": "220541e2",
   "metadata": {},
   "outputs": [
    {
     "data": {
      "text/plain": [
       "(0.5764922327894164,\n",
       " 0.5490468548669175,\n",
       " 0.16427380599215413,\n",
       " 0.7457406704426193)"
      ]
     },
     "execution_count": 56,
     "metadata": {},
     "output_type": "execute_result"
    }
   ],
   "source": [
    "b1, b2, b3, b4 = numpy.random.rand(4)\n",
    "b1, b2, b3, b4"
   ]
  },
  {
   "cell_type": "code",
   "execution_count": 78,
   "id": "2fdda069",
   "metadata": {},
   "outputs": [
    {
     "data": {
      "text/plain": [
       "(3.5842452712697748,\n",
       " -0.3602914305217815,\n",
       " 3.4333551327677196,\n",
       " 1.5935722820175227,\n",
       " 3.4814440522836883)"
      ]
     },
     "execution_count": 78,
     "metadata": {},
     "output_type": "execute_result"
    }
   ],
   "source": [
    "b1, b2, b3, b4, l = optimizer_naive_step(b1, b2, b3, b4, loss, u, b)\n",
    "b1, b2, b3, b4, l"
   ]
  },
  {
   "cell_type": "code",
   "execution_count": 79,
   "id": "8f1ad7c8",
   "metadata": {},
   "outputs": [
    {
     "data": {
      "text/plain": [
       "(1.8569821329582514,\n",
       " 1.278535620841792,\n",
       " 2.762439664011236,\n",
       " 2.461854254036112,\n",
       " 0.00023224954363473547)"
      ]
     },
     "execution_count": 79,
     "metadata": {},
     "output_type": "execute_result"
    }
   ],
   "source": [
    "for epoch in range(100_000):\n",
    "    b1, b2, b3, b4, l = optimizer_naive_step(b1, b2, b3, b4, loss, u, b)\n",
    "\n",
    "b1, b2, b3, b4, l"
   ]
  },
  {
   "cell_type": "code",
   "execution_count": 80,
   "id": "9c9138a6",
   "metadata": {},
   "outputs": [
    {
     "data": {
      "text/plain": [
       "array([[1.85698213, 1.27853562],\n",
       "       [2.76243966, 2.46185425]])"
      ]
     },
     "execution_count": 80,
     "metadata": {},
     "output_type": "execute_result"
    }
   ],
   "source": [
    "M_opt = numpy.array([\n",
    "    [1.8569821329582514, 1.278535620841792],\n",
    "    [ 2.762439664011236, 2.461854254036112]\n",
    "])\n",
    "\n",
    "M_opt"
   ]
  },
  {
   "cell_type": "code",
   "execution_count": 81,
   "id": "15d4b19f",
   "metadata": {},
   "outputs": [
    {
     "data": {
      "text/plain": [
       "array([4.99249989, 7.98673358])"
      ]
     },
     "execution_count": 81,
     "metadata": {},
     "output_type": "execute_result"
    }
   ],
   "source": [
    "M_opt.dot(u)"
   ]
  },
  {
   "cell_type": "code",
   "execution_count": 82,
   "id": "beacaf49",
   "metadata": {},
   "outputs": [
    {
     "data": {
      "text/plain": [
       "array([2.00144516, 1.00376718])"
      ]
     },
     "execution_count": 82,
     "metadata": {},
     "output_type": "execute_result"
    }
   ],
   "source": [
    "numpy.linalg.inv(M_opt).dot(b)"
   ]
  }
 ],
 "metadata": {
  "kernelspec": {
   "display_name": "3.10.15",
   "language": "python",
   "name": "python3"
  },
  "language_info": {
   "codemirror_mode": {
    "name": "ipython",
    "version": 3
   },
   "file_extension": ".py",
   "mimetype": "text/x-python",
   "name": "python",
   "nbconvert_exporter": "python",
   "pygments_lexer": "ipython3",
   "version": "3.10.15"
  }
 },
 "nbformat": 4,
 "nbformat_minor": 5
}
