{
 "cells": [
  {
   "cell_type": "code",
   "execution_count": null,
   "id": "e0c50d56",
   "metadata": {},
   "outputs": [],
   "source": [
    "rfc = \"...\""
   ]
  },
  {
   "cell_type": "code",
   "execution_count": null,
   "id": "41807cd9",
   "metadata": {},
   "outputs": [],
   "source": [
    "import requests\n",
    "\n",
    "requests.get(f\"https://geocarta.org/api/factura?rfc={rfc}\")"
   ]
  }
 ],
 "metadata": {
  "language_info": {
   "name": "python"
  }
 },
 "nbformat": 4,
 "nbformat_minor": 5
}
